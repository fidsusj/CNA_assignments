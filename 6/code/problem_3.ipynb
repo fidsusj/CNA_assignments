{
 "cells": [
  {
   "cell_type": "markdown",
   "id": "340915da",
   "metadata": {},
   "source": [
    "# Lecture: Complex Network Analysis\n",
    "\n",
    "Prof. Dr. Michael Gertz\n",
    "\n",
    "Winter Semester 2021/22\n",
    "\n",
    "## Assignment 6 - Degree Correlations and Assortativity\n",
    "\n",
    "Students: Felix Hausberger, Nils Krehl, Patrick Günther"
   ]
  },
  {
   "cell_type": "markdown",
   "id": "dd0622f4",
   "metadata": {},
   "source": [
    "# 1. Compute the degree correlation matrix"
   ]
  },
  {
   "cell_type": "code",
   "execution_count": 1,
   "id": "aa45e7b0",
   "metadata": {},
   "outputs": [],
   "source": [
    "import numpy as np\n",
    "import networkx as nx"
   ]
  },
  {
   "cell_type": "code",
   "execution_count": 2,
   "id": "c34e5680",
   "metadata": {},
   "outputs": [],
   "source": [
    "A = np.matrix([[0, 1, 0, 1],\n",
    "               [1, 0, 1, 1],\n",
    "               [0, 1, 0, 0],\n",
    "               [1, 1, 0, 0]])"
   ]
  },
  {
   "cell_type": "code",
   "execution_count": 3,
   "id": "3a013fb6",
   "metadata": {},
   "outputs": [],
   "source": [
    "G = nx.convert_matrix.from_numpy_matrix(A)"
   ]
  },
  {
   "cell_type": "code",
   "execution_count": 4,
   "id": "5c741010",
   "metadata": {},
   "outputs": [
    {
     "data": {
      "image/png": "[encoded data removed]",
      "text/plain": [
       "<Figure size 432x288 with 1 Axes>"
      ]
     },
     "metadata": {},
     "output_type": "display_data"
    }
   ],
   "source": [
    "nx.draw(G)"
   ]
  },
  {
   "cell_type": "code",
   "execution_count": 5,
   "id": "a3f7c306",
   "metadata": {},
   "outputs": [
    {
     "data": {
      "text/plain": [
       "DegreeView({0: 2, 1: 3, 2: 1, 3: 2})"
      ]
     },
     "execution_count": 5,
     "metadata": {},
     "output_type": "execute_result"
    }
   ],
   "source": [
    "G.degree"
   ]
  },
  {
   "cell_type": "code",
   "execution_count": 6,
   "id": "8ed2637c",
   "metadata": {},
   "outputs": [],
   "source": [
    "max_degree = max(deg for n, deg in G.degree)\n",
    "mapping = {x: x for x in range(max_degree+1)}\n",
    "deg_corr_mat = nx.degree_mixing_matrix(G, mapping=mapping)"
   ]
  },
  {
   "cell_type": "code",
   "execution_count": 7,
   "id": "e3fe6dc0",
   "metadata": {},
   "outputs": [
    {
     "data": {
      "text/plain": [
       "array([[0.   , 0.   , 0.   , 0.   ],\n",
       "       [0.   , 0.   , 0.   , 0.125],\n",
       "       [0.   , 0.   , 0.25 , 0.25 ],\n",
       "       [0.   , 0.125, 0.25 , 0.   ]])"
      ]
     },
     "execution_count": 7,
     "metadata": {},
     "output_type": "execute_result"
    }
   ],
   "source": [
    "deg_corr_mat"
   ]
  },
  {
   "cell_type": "markdown",
   "id": "233c9844",
   "metadata": {},
   "source": [
    "(the first column/ row is for degree 0... that could be cut out, since a node with degree 0 never connects to any other node)"
   ]
  },
  {
   "cell_type": "markdown",
   "id": "6de8fd42",
   "metadata": {},
   "source": [
    "# 2. Compute the probabilities q_k of having a degree k node at the end of a random link"
   ]
  },
  {
   "cell_type": "code",
   "execution_count": 8,
   "id": "493f73a9",
   "metadata": {},
   "outputs": [],
   "source": [
    "avg_degree = sum(deg for n, deg in G.degree)/len(G.degree)\n",
    "\n",
    "q_k = {}\n",
    "for deg in range(max_degree + 1):\n",
    "    p_k = [deg for n, deg in G.degree].count(deg)/len(G.degree)\n",
    "    q_k[deg] = (deg * p_k)/avg_degree"
   ]
  },
  {
   "cell_type": "code",
   "execution_count": 9,
   "id": "81a3fb07",
   "metadata": {},
   "outputs": [
    {
     "data": {
      "text/plain": [
       "{0: 0.0, 1: 0.125, 2: 0.5, 3: 0.375}"
      ]
     },
     "execution_count": 9,
     "metadata": {},
     "output_type": "execute_result"
    }
   ],
   "source": [
    "q_k"
   ]
  },
  {
   "cell_type": "markdown",
   "id": "def75213",
   "metadata": {},
   "source": [
    "# 3. Compute the degree correlation coefficient r"
   ]
  },
  {
   "cell_type": "code",
   "execution_count": 10,
   "id": "cb101d05",
   "metadata": {},
   "outputs": [],
   "source": [
    "sigma_squared = sum([(k**2) * q_k[k] for k in q_k]) - sum([k * q_k[k] for k in q_k])**2\n",
    "\n",
    "r = []\n",
    "\n",
    "for j, row in enumerate(deg_corr_mat):\n",
    "    for k, e_jk in enumerate(row):\n",
    "        qk = q_k[k]\n",
    "        qj = q_k[j]\n",
    "        r.append((j*k*(e_jk-qj*qk))/sigma_squared)\n",
    "        \n",
    "r = sum(r)"
   ]
  },
  {
   "cell_type": "code",
   "execution_count": 11,
   "id": "3445a4f8",
   "metadata": {},
   "outputs": [
    {
     "name": "stdout",
     "output_type": "stream",
     "text": [
      "The degree correlation coefficient of the network is -0.7142857142857144.\n"
     ]
    }
   ],
   "source": [
    "print(f\"The degree correlation coefficient of the network is {r}.\")"
   ]
  },
  {
   "cell_type": "code",
   "execution_count": 12,
   "id": "31916c5d",
   "metadata": {},
   "outputs": [
    {
     "data": {
      "text/plain": [
       "-0.7142857142857143"
      ]
     },
     "execution_count": 12,
     "metadata": {},
     "output_type": "execute_result"
    }
   ],
   "source": [
    "# to check our computation, we also use the inbuild function of networkx\n",
    "nx.algorithms.assortativity.degree_assortativity_coefficient(G)"
   ]
  },
  {
   "cell_type": "code",
   "execution_count": null,
   "id": "bfd901b5",
   "metadata": {},
   "outputs": [],
   "source": []
  }
 ],
 "metadata": {
  "kernelspec": {
   "display_name": "Python 3 (ipykernel)",
   "language": "python",
   "name": "python3"
  },
  "language_info": {
   "codemirror_mode": {
    "name": "ipython",
    "version": 3
   },
   "file_extension": ".py",
   "mimetype": "text/x-python",
   "name": "python",
   "nbconvert_exporter": "python",
   "pygments_lexer": "ipython3",
   "version": "3.7.11"
  }
 },
 "nbformat": 4,
 "nbformat_minor": 5
}
