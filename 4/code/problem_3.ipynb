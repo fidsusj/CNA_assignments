{
 "cells": [
  {
   "cell_type": "markdown",
   "id": "3cc53fd6-18fc-4ed7-b00a-241b715593a3",
   "metadata": {},
   "source": [
    "# Lecture: Complex Network Analysis\n",
    "\n",
    "Prof. Dr. Michael Gertz\n",
    "\n",
    "Winter Semester 2021/22\n",
    "\n",
    "## Assignment 4 - Scale-Free Networks\n",
    "\n",
    "Students: Felix Hausberger, Nils Krehl, Patrick Günther"
   ]
  },
  {
   "cell_type": "code",
   "execution_count": null,
   "id": "a5baf17e-162d-4708-8c2e-ae7db35d8d0a",
   "metadata": {},
   "outputs": [],
   "source": [
    "import math\n",
    "import networkx as nx\n",
    "import pandas as pd\n",
    "import numpy as np\n",
    "from scipy.special import zeta\n",
    "from scipy import stats\n",
    "import igraph"
   ]
  },
  {
   "cell_type": "code",
   "execution_count": 2,
   "id": "2397b6e5",
   "metadata": {},
   "outputs": [],
   "source": [
    "# load dataset\n",
    "data = pd.read_csv('facebook-links.txt', sep=\"\\t\", header=None)"
   ]
  },
  {
   "cell_type": "code",
   "execution_count": 3,
   "id": "d6c1977c",
   "metadata": {},
   "outputs": [],
   "source": [
    "# clean dataset\n",
    "\n",
    "# remove time-stamp column\n",
    "data = data.drop([2], axis=1)"
   ]
  },
  {
   "cell_type": "code",
   "execution_count": 4,
   "id": "3558a346",
   "metadata": {},
   "outputs": [],
   "source": [
    "# since it is an undirected graph, no parallel edges are added\n",
    "G = nx.Graph()\n",
    "G.add_edges_from(data.itertuples(index=False))"
   ]
  },
  {
   "cell_type": "markdown",
   "id": "657633fc",
   "metadata": {},
   "source": [
    "# 1. Compute the diameter of the largest connected component."
   ]
  },
  {
   "cell_type": "code",
   "execution_count": 5,
   "id": "4c036f8f",
   "metadata": {},
   "outputs": [
    {
     "name": "stdout",
     "output_type": "stream",
     "text": [
      "The diameter of the largest connected component is 15.\n"
     ]
    }
   ],
   "source": [
    "# obtain the largest connected component\n",
    "\n",
    "# networkx implementation is to slow to compute...\n",
    "# lccs = sorted(nx.connected_components(G), key=len, reverse=True)\n",
    "# lcc = G.subgraph(lccs[0])\n",
    "# get the diameter of this component\n",
    "# print(f\"The diameter of the largest connected component is {nx.algorithms.distance_measures.diameter(lcc)}.\")\n",
    "\n",
    "G_igraph = igraph.Graph.TupleList(G.edges(), directed=False)\n",
    "cc = G_igraph.clusters()\n",
    "lcc_igraph = cc.giant()\n",
    "print(f\"The diameter of the largest connected component is {lcc_igraph.diameter()}.\")"
   ]
  },
  {
   "cell_type": "markdown",
   "id": "815d1adb",
   "metadata": {},
   "source": [
    "# 2. Determine the ID of the node with the highest degree. Report both the ID and the degree."
   ]
  },
  {
   "cell_type": "code",
   "execution_count": 6,
   "id": "1b49bba0",
   "metadata": {},
   "outputs": [
    {
     "name": "stdout",
     "output_type": "stream",
     "text": [
      "The node with the highest degree hast the ID 2332 and a degree of 1098.\n"
     ]
    }
   ],
   "source": [
    "# get node with highest degree\n",
    "print(f\"The node with the highest degree hast the ID {sorted(G.degree, key=lambda x: x[1], reverse=True)[0][0]} and a degree of {sorted(G.degree, key=lambda x: x[1], reverse=True)[0][1]}.\")"
   ]
  },
  {
   "cell_type": "markdown",
   "id": "2a6c617c",
   "metadata": {},
   "source": [
    "# 3. Compute the number of triangles in the network."
   ]
  },
  {
   "cell_type": "code",
   "execution_count": 7,
   "id": "d92cf9d3",
   "metadata": {},
   "outputs": [
    {
     "name": "stdout",
     "output_type": "stream",
     "text": [
      "The number of triangles in the network is 3501542.\n"
     ]
    }
   ],
   "source": [
    "number_of_triangles = sum(nx.triangles(G).values()) / 3\n",
    "print(f\"The number of triangles in the network is {int(number_of_triangles)}.\")"
   ]
  },
  {
   "cell_type": "markdown",
   "id": "96afaf13",
   "metadata": {},
   "source": [
    "# 4. Compute the global (or average local) clustering coefficient of the network."
   ]
  },
  {
   "cell_type": "code",
   "execution_count": 130,
   "id": "88983e26",
   "metadata": {},
   "outputs": [
    {
     "name": "stdout",
     "output_type": "stream",
     "text": [
      "The global clustering coefficient of the network is 0.14772080272078078.\n"
     ]
    }
   ],
   "source": [
    "print(f\"The global clustering coefficient of the network is {nx.transitivity(G)}.\")"
   ]
  },
  {
   "cell_type": "markdown",
   "id": "18be4b3a",
   "metadata": {},
   "source": [
    "# 5. Determine the power-law exponent of the degree distribution."
   ]
  },
  {
   "cell_type": "code",
   "execution_count": 7,
   "id": "d342e4c8",
   "metadata": {},
   "outputs": [],
   "source": [
    "import powerlaw as pl"
   ]
  },
  {
   "cell_type": "code",
   "execution_count": 104,
   "id": "bba0356e",
   "metadata": {},
   "outputs": [],
   "source": [
    "degrees = sorted(G.degree, key=lambda x: x[1], reverse=False)\n",
    "degrees_unique = set([deg[1] for deg in degrees])"
   ]
  },
  {
   "cell_type": "code",
   "execution_count": 123,
   "id": "5f84f22d",
   "metadata": {},
   "outputs": [
    {
     "name": "stdout",
     "output_type": "stream",
     "text": [
      "The power-law exponent of the degree distribution is 0.7868314661942882.\n"
     ]
    }
   ],
   "source": [
    "def calc_P_k(gamma, k, K_min):\n",
    "    return 1- zeta(gamma, k)/zeta(gamma, K_min)\n",
    "\n",
    "# iterate over possible K_min\n",
    "N = len(degrees)\n",
    "k = [deg[1] for deg in degrees]\n",
    "K_min_best = None\n",
    "gamma_best = None\n",
    "D_min = math.inf\n",
    "for node_degree in degrees_unique:\n",
    "    K_min = node_degree\n",
    "    degrees\n",
    "    # calculate gamma\n",
    "    gamma = 1 + 1 / ((1/N * np.sum(np.log([deg[1] for deg in degrees]))) - np.log(K_min - 0.5))\n",
    "   \n",
    "    # kolmogorov-smirnov test\n",
    "    k_cdf, S = pl.cdf(k, linear_bins=True)\n",
    "    \n",
    "    D_max = 0\n",
    "    for i, k_i in enumerate(k_cdf):\n",
    "        # k must be greater or equal K_min\n",
    "        if k_i >= K_min:\n",
    "            D = abs(S[i] - calc_P_k(gamma, k_i, K_min))\n",
    "            if D > D_max:\n",
    "                D_max = D\n",
    "    #D = max([abs(p_k - S[i]) for i, p_k in enumerate(P_k)])\n",
    "    if D_max <= D_min:\n",
    "        D_min = D_max\n",
    "        K_min_best = K_min\n",
    "        gamma_best = gamma\n",
    "        \n",
    "print(f\"The power-law exponent of the degree distribution is {gamma_best}.\")"
   ]
  },
  {
   "cell_type": "markdown",
   "id": "434e8406",
   "metadata": {},
   "source": [
    "### trying the approach from the tutorial to see, if we can get a better result..."
   ]
  },
  {
   "cell_type": "code",
   "execution_count": 124,
   "id": "6284e3a2",
   "metadata": {},
   "outputs": [],
   "source": [
    "degrees = sorted(G.degree, key=lambda x: x[1], reverse=False)\n",
    "degrees_unique = set([deg[1] for deg in degrees])\n",
    "min_degree = min(degrees_unique)\n",
    "def estimate_gamma(n, k_min):\n",
    "    gamma = (1 + 1 / ((1/len(n) * np.sum(np.log(n))) - np.log(K_min - 0.5)))\n",
    "    #print(gamma)\n",
    "    return gamma\n",
    "def cdf(gamma, k, k_min):\n",
    "    return 1 - zeta(gamma, k) / zeta(gamma, k_min)\n",
    "def ks_test(n, k_min):\n",
    "    k, p = pl.cdf(n, linear=True)\n",
    "    #print(p)\n",
    "    gamma = estimate_gamma(n, k_min)\n",
    "    #diff = [p[i] - cdf(gamma, k[i], k_min) for i in range(len(k))]\n",
    "    diff = []\n",
    "    for i in range(len(k)):\n",
    "        diff.append(p[i] - cdf(gamma, k[i], k_min))\n",
    "    \n",
    "    return gamma, max(diff)"
   ]
  },
  {
   "cell_type": "code",
   "execution_count": 125,
   "id": "1bf0a7ea",
   "metadata": {},
   "outputs": [
    {
     "name": "stderr",
     "output_type": "stream",
     "text": [
      "/opt/anaconda3/envs/complexnetworkanalysis/lib/python3.7/site-packages/ipykernel_launcher.py:9: RuntimeWarning: invalid value encountered in double_scalars\n",
      "  if __name__ == '__main__':\n"
     ]
    }
   ],
   "source": [
    "test_results = []\n",
    "gammas = []\n",
    "\n",
    "for k_min in range(min_degree, max(degrees_unique)):\n",
    "    n = [k for k in [deg[1] for deg in degrees] if k >= k_min]\n",
    "    gamma, test_result = ks_test(n, k_min)\n",
    "    test_results.append(test_result)\n",
    "    gammas.append(gamma)\n",
    "    \n",
    "best_estimate = min(test_results)\n",
    "best_k_min = test_results.index(best_estimate) + min_degree\n",
    "\n",
    "gamma_best = gammas[test_results.index(best_estimate)]"
   ]
  },
  {
   "cell_type": "code",
   "execution_count": 126,
   "id": "1ae5d0ed",
   "metadata": {},
   "outputs": [
    {
     "data": {
      "text/plain": [
       "0.7868314661942882"
      ]
     },
     "execution_count": 126,
     "metadata": {},
     "output_type": "execute_result"
    }
   ],
   "source": [
    "gamma_best"
   ]
  },
  {
   "cell_type": "markdown",
   "id": "9570ab0b",
   "metadata": {},
   "source": [
    "### We tried two approaches and both result in non fitting gamma. The reason for this is that the zeta function returns nan for some gamma and k_min combinations..."
   ]
  },
  {
   "cell_type": "markdown",
   "id": "725f0bcf",
   "metadata": {},
   "source": [
    "# 6. Create a plot showing both the original degree distribution and the result of your fit."
   ]
  },
  {
   "cell_type": "code",
   "execution_count": 10,
   "id": "efdb8fb2",
   "metadata": {},
   "outputs": [],
   "source": [
    "import matplotlib.pyplot as plt"
   ]
  },
  {
   "cell_type": "code",
   "execution_count": 128,
   "id": "22ae6761",
   "metadata": {},
   "outputs": [
    {
     "name": "stdout",
     "output_type": "stream",
     "text": [
      "gamma: 1.4329629853425812\n"
     ]
    },
    {
     "data": {
      "image/png": "[encoded data removed]",
      "text/plain": [
       "<Figure size 432x288 with 1 Axes>"
      ]
     },
     "metadata": {
      "needs_background": "light"
     },
     "output_type": "display_data"
    }
   ],
   "source": [
    "x, y = pl.pdf(k, linear_bins=False)\n",
    "fit = pl.Fit(k, xmin=1)\n",
    "fit_x = np.linspace(min(x), max(x), 1000)\n",
    "fit_y = ((gamma_best - 1)* K_min_best ** (gamma_best - 1)) * fit_x ** (-gamma_best)\n",
    "\n",
    "print(f\"gamma: {fit.alpha}\")\n",
    "\n",
    "fig, ax = plt.subplots()\n",
    "\n",
    "ax.loglog(x[:-1], y, \"b.\")\n",
    "fit.power_law.plot_pdf(ax=ax, linestyle=\":\", color=\"r\")\n",
    "ax.set_title(\"Original Degree Distribution and Result of the Fit\", fontweight=\"bold\", fontsize=14)\n",
    "ax.set_ylabel(\"$p_k$\")\n",
    "ax.set_xlabel(\"$k$\")\n",
    "fig.tight_layout()\n",
    "plt.plot(fit_x, fit_y, label=f\"$\\gamma = {round(gamma_best,2)}$\")\n",
    "ax.legend()\n",
    "plt.show(fig)"
   ]
  },
  {
   "cell_type": "code",
   "execution_count": null,
   "id": "83d09be0",
   "metadata": {},
   "outputs": [],
   "source": []
  }
 ],
 "metadata": {
  "kernelspec": {
   "display_name": "Python 3 (ipykernel)",
   "language": "python",
   "name": "python3"
  },
  "language_info": {
   "codemirror_mode": {
    "name": "ipython",
    "version": 3
   },
   "file_extension": ".py",
   "mimetype": "text/x-python",
   "name": "python",
   "nbconvert_exporter": "python",
   "pygments_lexer": "ipython3",
   "version": "3.7.11"
  }
 },
 "nbformat": 4,
 "nbformat_minor": 5
}
