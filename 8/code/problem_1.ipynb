{
 "cells": [
  {
   "cell_type": "markdown",
   "id": "4968ee41",
   "metadata": {},
   "source": [
    "# Lecture: Complex Network Analysis\n",
    "\n",
    "Prof. Dr. Michael Gertz\n",
    "\n",
    "Winter Semester 2021/22\n",
    "\n",
    "## Assignment 8 - Clustering and Modularity\n",
    "\n",
    "### Problem 8-1: European Power Grid\n",
    "\n",
    "Students: Felix Hausberger, Nils Krehl, Patrick Günther"
   ]
  },
  {
   "cell_type": "code",
   "execution_count": 56,
   "id": "e4f2ebf3",
   "metadata": {},
   "outputs": [],
   "source": [
    "import pandas as pd\n",
    "import numpy as np\n",
    "import matplotlib.pyplot as plt\n",
    "import networkx as nx"
   ]
  },
  {
   "cell_type": "code",
   "execution_count": 4,
   "id": "291996fc",
   "metadata": {},
   "outputs": [
    {
     "data": {
      "text/html": [
       "<div>\n",
       "<style scoped>\n",
       "    .dataframe tbody tr th:only-of-type {\n",
       "        vertical-align: middle;\n",
       "    }\n",
       "\n",
       "    .dataframe tbody tr th {\n",
       "        vertical-align: top;\n",
       "    }\n",
       "\n",
       "    .dataframe thead th {\n",
       "        text-align: right;\n",
       "    }\n",
       "</style>\n",
       "<table border=\"1\" class=\"dataframe\">\n",
       "  <thead>\n",
       "    <tr style=\"text-align: right;\">\n",
       "      <th></th>\n",
       "      <th>v_id_1</th>\n",
       "      <th>v_id_2</th>\n",
       "    </tr>\n",
       "  </thead>\n",
       "  <tbody>\n",
       "    <tr>\n",
       "      <th>0</th>\n",
       "      <td>43193</td>\n",
       "      <td>23620</td>\n",
       "    </tr>\n",
       "    <tr>\n",
       "      <th>1</th>\n",
       "      <td>42022</td>\n",
       "      <td>13686</td>\n",
       "    </tr>\n",
       "    <tr>\n",
       "      <th>2</th>\n",
       "      <td>6913</td>\n",
       "      <td>48526</td>\n",
       "    </tr>\n",
       "    <tr>\n",
       "      <th>3</th>\n",
       "      <td>35422</td>\n",
       "      <td>28973</td>\n",
       "    </tr>\n",
       "    <tr>\n",
       "      <th>4</th>\n",
       "      <td>7864</td>\n",
       "      <td>63104</td>\n",
       "    </tr>\n",
       "  </tbody>\n",
       "</table>\n",
       "</div>"
      ],
      "text/plain": [
       "   v_id_1  v_id_2\n",
       "0   43193   23620\n",
       "1   42022   13686\n",
       "2    6913   48526\n",
       "3   35422   28973\n",
       "4    7864   63104"
      ]
     },
     "execution_count": 4,
     "metadata": {},
     "output_type": "execute_result"
    }
   ],
   "source": [
    "df = pd.read_csv('gridkit_europe.csv')\n",
    "df.drop(columns=[col for col in df if col not in [\"v_id_1\", \"v_id_2\"]], inplace=True)\n",
    "df.head()"
   ]
  },
  {
   "cell_type": "code",
   "execution_count": 16,
   "id": "efad2d72",
   "metadata": {},
   "outputs": [
    {
     "name": "stdout",
     "output_type": "stream",
     "text": [
      "N = 13844\n",
      "N = 17277\n"
     ]
    }
   ],
   "source": [
    "# since it is an undirected graph, no parallel edges are added\n",
    "G = nx.Graph()\n",
    "G.add_edges_from(df.itertuples(index=False))\n",
    "\n",
    "# remove self-loops\n",
    "G.remove_edges_from(nx.selfloop_edges(G))\n",
    "\n",
    "# stats\n",
    "print(f\"N = {G.number_of_nodes()}\")\n",
    "print(f\"N = {G.number_of_edges()}\")"
   ]
  },
  {
   "cell_type": "markdown",
   "id": "59fb0b9a",
   "metadata": {},
   "source": [
    "# 1."
   ]
  },
  {
   "cell_type": "code",
   "execution_count": 24,
   "id": "b53f237b",
   "metadata": {},
   "outputs": [
    {
     "name": "stdout",
     "output_type": "stream",
     "text": [
      "Molloy-Reed criterion: K = 3.16\n"
     ]
    }
   ],
   "source": [
    "def nth_moment(G, n):\n",
    "    degrees = np.array(list(dict(G.degree).values()))\n",
    "    return (sum(degrees**n)/len(G))\n",
    "\n",
    "K = nth_moment(G, 2) / nth_moment(G, 1)\n",
    "print(f\"Molloy-Reed criterion: K = {np.round(K, 2)}\")"
   ]
  },
  {
   "cell_type": "markdown",
   "id": "10c7318a",
   "metadata": {},
   "source": [
    "Since $K$ is bigger than 2, the european power grid network should have a giant component. This makes complete sense in the case of a power grid network, since there shouldn't be fragmented infrastructure for power supply."
   ]
  },
  {
   "cell_type": "markdown",
   "id": "6e046ccd",
   "metadata": {},
   "source": [
    "# 2."
   ]
  },
  {
   "cell_type": "code",
   "execution_count": 75,
   "id": "02f20baa",
   "metadata": {},
   "outputs": [
    {
     "name": "stdout",
     "output_type": "stream",
     "text": [
      "Absolute size of largest component: 13478\n",
      "Relative size of largest component: 0.97\n"
     ]
    }
   ],
   "source": [
    "def size_largest_component(G):\n",
    "    if G.number_of_nodes() > 0:\n",
    "        return len(max(nx.connected_components(G), key=len))\n",
    "    return 0\n",
    "\n",
    "def average_size_components(G):\n",
    "    if G.number_of_nodes() > 0:\n",
    "        component_sizes = [len(component) for component in sorted(nx.connected_components(G), key=len, reverse=True)]\n",
    "        return sum(component_sizes) / len(component_sizes)\n",
    "    return 0\n",
    "\n",
    "print(f\"Absolute size of largest component: {size_largest_component(G)}\")\n",
    "print(f\"Relative size of largest component: {np.round(size_largest_component(G) / G.number_of_nodes(), 2)}\")"
   ]
  },
  {
   "cell_type": "markdown",
   "id": "46ed64b8",
   "metadata": {},
   "source": [
    "Yes, the Molloy-Reed criterion gives the correct prediction as 97% of the nodes are inside a giant component."
   ]
  },
  {
   "cell_type": "markdown",
   "id": "fab07a05",
   "metadata": {},
   "source": [
    "# 3."
   ]
  },
  {
   "cell_type": "code",
   "execution_count": 53,
   "id": "871c4971",
   "metadata": {},
   "outputs": [
    {
     "name": "stdout",
     "output_type": "stream",
     "text": [
      "f_c: 0.54\n",
      "f_c_er: 0.68\n"
     ]
    }
   ],
   "source": [
    "print(f\"f_c: {np.round(1 - (1 / (K - 1)), 2)}\")\n",
    "print(f\"f_c_er: {np.round(1 - (1 / K), 2)}\")"
   ]
  },
  {
   "cell_type": "markdown",
   "id": "85858fe8",
   "metadata": {},
   "source": [
    "As $f_c < f_c^{ER}$ the european power grid network does not own enhanced robustness against random failures as its critical breakdown threshold is lower than expected for a random network with the same degree distribution. "
   ]
  },
  {
   "cell_type": "markdown",
   "id": "5b025103",
   "metadata": {},
   "source": [
    "# 4."
   ]
  },
  {
   "cell_type": "code",
   "execution_count": 71,
   "id": "35bbbb42",
   "metadata": {},
   "outputs": [],
   "source": [
    "def sample_random_failures(G, num_samples=10):\n",
    "    N = G.number_of_nodes()\n",
    "        \n",
    "    averaged_largest_component_size = []\n",
    "    averaged_average_component_size = []  \n",
    "    for f_c in np.arange(0, 1.1, 0.1):\n",
    "        largest_component_size = []\n",
    "        average_component_size = []\n",
    "        for sample in range(num_samples):\n",
    "            G_fc = G.copy()\n",
    "            number_to_be_removed = int(np.round(f_c * N))\n",
    "            nodes_to_be_removed = np.random.choice(G_fc.nodes(), number_to_be_removed, replace=False)\n",
    "            G_fc.remove_nodes_from(nodes_to_be_removed)\n",
    "            largest_component_size.append(size_largest_component(G_fc))\n",
    "            average_component_size.append(average_size_components(G_fc))\n",
    "        \n",
    "        averaged_largest_component_size.append(np.mean(np.array(largest_component_size)))\n",
    "        averaged_average_component_size.append(np.mean(np.array(average_component_size)))\n",
    "    return np.array(averaged_largest_component_size), np.array(averaged_average_component_size)\n",
    "\n",
    "max_component_sizes, average_component_sizes = sample_random_failures(G)"
   ]
  },
  {
   "cell_type": "code",
   "execution_count": 72,
   "id": "9872dcdf",
   "metadata": {},
   "outputs": [
    {
     "data": {
      "image/png": "[encoded data removed]",
      "text/plain": [
       "<Figure size 432x288 with 1 Axes>"
      ]
     },
     "metadata": {
      "needs_background": "light"
     },
     "output_type": "display_data"
    }
   ],
   "source": [
    "N = G.number_of_nodes()\n",
    "plt.plot(max_component_sizes / N, label=\"maximum component size\")\n",
    "plt.xticks(ticks=range(11), labels=(np.arange(0, 11, 1) / 10))\n",
    "plt.legend()\n",
    "plt.xlabel(\"f_c\")\n",
    "plt.ylabel(\"P(f) / P(1)\")\n",
    "plt.show()"
   ]
  },
  {
   "cell_type": "markdown",
   "id": "afdcedec",
   "metadata": {},
   "source": [
    "One recognizes that at $f_c = 0.54$ the size of the largest component converges to 1 as predicted. This means for a power grid to lose its complete functionality to supply power around 50% of nodes need to randomly fail to achieve a collapse of the network. "
   ]
  },
  {
   "cell_type": "code",
   "execution_count": 74,
   "id": "26a712a1",
   "metadata": {},
   "outputs": [
    {
     "data": {
      "image/png": "[encoded data removed]",
      "text/plain": [
       "<Figure size 432x288 with 1 Axes>"
      ]
     },
     "metadata": {
      "needs_background": "light"
     },
     "output_type": "display_data"
    }
   ],
   "source": [
    "N = G.number_of_nodes()\n",
    "plt.plot(average_component_sizes / N, label=\"average component size\")\n",
    "plt.xticks(ticks=range(11), labels=(np.arange(0, 11, 1) / 10))\n",
    "plt.legend()\n",
    "plt.xlabel(\"f_c\")\n",
    "plt.ylabel(\"P(f) / P(1)\")\n",
    "plt.show()"
   ]
  },
  {
   "cell_type": "markdown",
   "id": "fbd95d23",
   "metadata": {},
   "source": [
    "Already when 10% of all nodes randomly fail, one recognizes that the size of the largest component has drastically decreased and that also the average component size begins to converge to 1."
   ]
  }
 ],
 "metadata": {
  "kernelspec": {
   "display_name": "Python 3 (ipykernel)",
   "language": "python",
   "name": "python3"
  },
  "language_info": {
   "codemirror_mode": {
    "name": "ipython",
    "version": 3
   },
   "file_extension": ".py",
   "mimetype": "text/x-python",
   "name": "python",
   "nbconvert_exporter": "python",
   "pygments_lexer": "ipython3",
   "version": "3.8.12"
  }
 },
 "nbformat": 4,
 "nbformat_minor": 5
}
