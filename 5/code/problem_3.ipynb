{
 "cells": [
  {
   "cell_type": "markdown",
   "id": "b2c15b93",
   "metadata": {},
   "source": [
    "# Lecture: Complex Network Analysis\n",
    "\n",
    "Prof. Dr. Michael Gertz\n",
    "\n",
    "Winter Semester 2021/22\n",
    "\n",
    "## Assignment 3 - Growth and Preferential Attachment\n",
    "\n",
    "Students: Felix Hausberger, Nils Krehl, Patrick Günther"
   ]
  },
  {
   "cell_type": "code",
   "execution_count": 1,
   "id": "49894ab4",
   "metadata": {},
   "outputs": [],
   "source": [
    "import networkx as nx\n",
    "import numpy as np\n",
    "import powerlaw as pl\n",
    "import matplotlib.pyplot as plt"
   ]
  },
  {
   "cell_type": "markdown",
   "id": "908c8e19",
   "metadata": {},
   "source": [
    "## 1."
   ]
  },
  {
   "cell_type": "code",
   "execution_count": 2,
   "id": "1cd1a289",
   "metadata": {},
   "outputs": [],
   "source": [
    "def barabasi_albert(G, t, m):\n",
    "    N_0 = G.number_of_nodes()\n",
    "    for node in range(N_0, N_0 + t):\n",
    "        G.add_node(node)\n",
    "        N = G.number_of_nodes()\n",
    "        links_added = 0\n",
    "        while(links_added < m):\n",
    "            link_probabilities = np.empty(N)\n",
    "            sum_of_degrees = np.sum([G.degree(n) for n in G.nodes()])\n",
    "            for source_node, degree in G.degree():\n",
    "                link_probabilities[source_node] = degree / sum_of_degrees\n",
    "            target_node = np.random.choice(N, p=link_probabilities)\n",
    "            if(source_node != target_node and not G.has_edge(source_node, target_node)):\n",
    "                G.add_edge(source_node, target_node)\n",
    "                links_added += 1;\n",
    "    return G"
   ]
  },
  {
   "cell_type": "markdown",
   "id": "19447e0e",
   "metadata": {},
   "source": [
    "## 2."
   ]
  },
  {
   "cell_type": "code",
   "execution_count": 3,
   "id": "8d29d758",
   "metadata": {},
   "outputs": [
    {
     "name": "stdout",
     "output_type": "stream",
     "text": [
      "Number of nodes: 105\n",
      "Number of edges: 310\n",
      "Sum of the node degrees: 620\n"
     ]
    }
   ],
   "source": [
    "G = barabasi_albert(nx.complete_graph(5), 100, 3)\n",
    "print(f\"Number of nodes: {G.number_of_nodes()}\")\n",
    "print(f\"Number of edges: {G.number_of_edges()}\")\n",
    "print(f\"Sum of the node degrees: {np.sum([G.degree(n) for n in G.nodes()])}\")"
   ]
  },
  {
   "cell_type": "markdown",
   "id": "a000ac3a",
   "metadata": {},
   "source": [
    "## 3."
   ]
  },
  {
   "cell_type": "code",
   "execution_count": 4,
   "id": "a320ec24",
   "metadata": {},
   "outputs": [
    {
     "name": "stderr",
     "output_type": "stream",
     "text": [
      "Calculating best minimal value for power law fit\n",
      "D:\\Benutzer\\Felix\\anaconda3\\lib\\site-packages\\powerlaw.py:699: RuntimeWarning: invalid value encountered in true_divide\n",
      "  (CDF_diff**2) /\n",
      "D:\\Benutzer\\Felix\\anaconda3\\lib\\site-packages\\powerlaw.py:699: RuntimeWarning: divide by zero encountered in true_divide\n",
      "  (CDF_diff**2) /\n",
      "D:\\Benutzer\\Felix\\anaconda3\\lib\\site-packages\\powerlaw.py:699: RuntimeWarning: invalid value encountered in true_divide\n",
      "  (CDF_diff**2) /\n"
     ]
    },
    {
     "name": "stdout",
     "output_type": "stream",
     "text": [
      "Average local clustering coefficient: 0.04 (expected 0.05)\n",
      "Average distance: 3.19 (expected 3.58)\n",
      "Power-law degree exponent: 2.76 (expected 3)\n"
     ]
    },
    {
     "data": {
      "image/png": "[encoded data removed]",
      "text/plain": [
       "<Figure size 432x288 with 1 Axes>"
      ]
     },
     "metadata": {
      "needs_background": "light"
     },
     "output_type": "display_data"
    }
   ],
   "source": [
    "G = barabasi_albert(nx.complete_graph(5), 1000, 4)\n",
    "N = G.number_of_nodes()\n",
    "\n",
    "x, y = pl.pdf([G.degree(n) for n in G.nodes()], linear_bins=False)\n",
    "fit = pl.Fit([val for (node, val) in G.degree()], discrete=True)\n",
    "\n",
    "fig, ax = plt.subplots()\n",
    "ax.semilogx(x[1:], y, \"b.\")\n",
    "fit.power_law.plot_pdf(ax=ax, linestyle=\":\", color=\"r\", label=\"$gamma = {}$\".format(np.round(fit.alpha, 2)))\n",
    "ax.set_title(\"Power-law degree distribution\", fontweight=\"bold\", fontsize=14)\n",
    "ax.set_ylabel(\"$p_k$\")\n",
    "ax.set_xlabel(\"$k$\")\n",
    "ax.legend()\n",
    "fig.tight_layout()\n",
    "\n",
    "print(f\"Average local clustering coefficient: {np.round(nx.average_clustering(G), 2)} (expected {np.round((np.log(N)**2)/N, 2)})\")\n",
    "print(f\"Average distance: {np.round(nx.average_shortest_path_length(G), 2)} (expected {np.round(np.log(N)/np.log(np.log(N)), 2)})\")\n",
    "print(f\"Power-law degree exponent: {np.round(fit.alpha, 2)} (expected {3})\")"
   ]
  },
  {
   "cell_type": "markdown",
   "id": "d6ce01d1",
   "metadata": {},
   "source": [
    "The values of the generated instance approach the expected values. The expected values are based on an analytical formula for the case that $t \\rightarrow \\infty$. As we only generate a small network, approaching the analytical with our experimental values is fine."
   ]
  }
 ],
 "metadata": {
  "kernelspec": {
   "display_name": "Python 3 (ipykernel)",
   "language": "python",
   "name": "python3"
  },
  "language_info": {
   "codemirror_mode": {
    "name": "ipython",
    "version": 3
   },
   "file_extension": ".py",
   "mimetype": "text/x-python",
   "name": "python",
   "nbconvert_exporter": "python",
   "pygments_lexer": "ipython3",
   "version": "3.8.12"
  }
 },
 "nbformat": 4,
 "nbformat_minor": 5
}
