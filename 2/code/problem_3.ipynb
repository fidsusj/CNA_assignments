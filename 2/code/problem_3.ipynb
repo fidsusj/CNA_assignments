{
 "cells": [
  {
   "cell_type": "markdown",
   "id": "3ad55bd0",
   "metadata": {},
   "source": [
    "# Lecture: Complex Network Analysis\n",
    "\n",
    "Prof. Dr. Michael Gertz\n",
    "\n",
    "Winter Semester 2021/22\n",
    "\n",
    "## Assignment 1 - Graph Properties and Random Graphs\n",
    "\n",
    "Students: Felix Hausberger, Nils Krehl, Patrick Günther"
   ]
  },
  {
   "cell_type": "code",
   "execution_count": 52,
   "id": "d67ac4f6",
   "metadata": {},
   "outputs": [],
   "source": [
    "import numpy as np\n",
    "import pandas as pd\n",
    "import networkx as nx\n",
    "import matplotlib.pyplot as plt"
   ]
  },
  {
   "cell_type": "code",
   "execution_count": 53,
   "id": "215d4745",
   "metadata": {},
   "outputs": [
    {
     "name": "stdout",
     "output_type": "stream",
     "text": [
      "KONECT american football graph:\n",
      "undirected, unweighted, no self-loops or multiple edges\n",
      "Nodes: 115\n",
      "Edges: 613\n"
     ]
    }
   ],
   "source": [
    "american_football_graph = nx.read_edgelist(\"data/american_football/american_football.edgelist\", nodetype=int, create_using=nx.Graph())\n",
    "print(\"KONECT american football graph:\")\n",
    "print(\"undirected, unweighted, no self-loops or multiple edges\")\n",
    "print(f\"Nodes: {nx.number_of_nodes(american_football_graph)}\")\n",
    "print(f\"Edges: {nx.number_of_edges(american_football_graph)}\")"
   ]
  },
  {
   "cell_type": "code",
   "execution_count": 54,
   "id": "43bcb8da",
   "metadata": {},
   "outputs": [
    {
     "name": "stdout",
     "output_type": "stream",
     "text": [
      "SNAP california road graph:\n",
      "undirected, unweighted, no self-loops or multiple edges\n",
      "Nodes: 1965206\n",
      "Edges: 2766607\n"
     ]
    }
   ],
   "source": [
    "california_road_graph = nx.read_edgelist(\"data/california_road/california_road.edgelist\", nodetype=int, create_using=nx.Graph())\n",
    "print(\"SNAP california road graph:\")\n",
    "print(\"undirected, unweighted, no self-loops or multiple edges\")\n",
    "print(f\"Nodes: {nx.number_of_nodes(california_road_graph)}\")\n",
    "print(f\"Edges: {nx.number_of_edges(california_road_graph)}\")"
   ]
  },
  {
   "cell_type": "markdown",
   "id": "0545c308",
   "metadata": {},
   "source": [
    "## 1."
   ]
  },
  {
   "cell_type": "code",
   "execution_count": 55,
   "id": "93476002",
   "metadata": {},
   "outputs": [],
   "source": [
    "def draw_ccdf(network, degree_distribution, loglog, format, lbl):\n",
    "    ccdf = 1 - degree_distribution.cumsum() / degree_distribution.sum()\n",
    "    plt.plot(range(len(ccdf)), ccdf, format, label=lbl)\n",
    "    if loglog:\n",
    "        plt.yscale('log')\n",
    "        plt.xscale('log')\n",
    "    # plt.ylim([0, 1.1])\n",
    "    # plt.xlim([0, nx.number_of_nodes(network)])\n",
    "    plt.ylabel('$P(k \\geq k_x)$')\n",
    "    plt.xlabel('$k_x$')\n",
    "    plt.legend(loc=\"lower left\")"
   ]
  },
  {
   "cell_type": "code",
   "execution_count": 56,
   "id": "46497356",
   "metadata": {},
   "outputs": [
    {
     "data": {
      "image/png": "[encoded data removed]",
      "text/plain": [
       "<Figure size 432x288 with 1 Axes>"
      ]
     },
     "metadata": {
      "needs_background": "light"
     },
     "output_type": "display_data"
    }
   ],
   "source": [
    "# Real network\n",
    "degrees = np.array([val for (node, val) in american_football_graph.degree()])\n",
    "degree_distribution = np.bincount(degrees)\n",
    "draw_ccdf(american_football_graph, degree_distribution, False, 'bo', 'real');\n",
    "\n",
    "# Averaged random network\n",
    "degrees_total = np.array([])\n",
    "for i in range(10):\n",
    "    american_football_graph_random = nx.gnm_random_graph(nx.number_of_nodes(american_football_graph), nx.number_of_edges(american_football_graph))\n",
    "    degrees = np.array([val for (node, val) in american_football_graph_random.degree()])\n",
    "    degrees_total = np.append(degrees_total, degrees)\n",
    "degree_distribution = np.bincount(degrees) / 10\n",
    "draw_ccdf(american_football_graph_random, degree_distribution, False, 'ro', 'random');\n",
    "\n",
    "plt.show()"
   ]
  },
  {
   "cell_type": "code",
   "execution_count": 57,
   "id": "11398a66",
   "metadata": {},
   "outputs": [
    {
     "data": {
      "image/png": "[encoded data removed]",
      "text/plain": [
       "<Figure size 432x288 with 1 Axes>"
      ]
     },
     "metadata": {
      "needs_background": "light"
     },
     "output_type": "display_data"
    }
   ],
   "source": [
    "# Real network\n",
    "degrees = np.array([val for (node, val) in california_road_graph.degree()])\n",
    "degree_distribution = np.bincount(degrees)\n",
    "draw_ccdf(california_road_graph, degree_distribution, True, 'bo', 'real');\n",
    "\n",
    "# Averaged random network\n",
    "degrees_total = np.array([])\n",
    "for i in range(10):\n",
    "    california_road_graph_random = nx.gnm_random_graph(nx.number_of_nodes(california_road_graph), nx.number_of_edges(california_road_graph))\n",
    "    degrees = np.array([val for (node, val) in california_road_graph_random.degree()])\n",
    "    degrees_total = np.append(degrees_total, degrees)\n",
    "degree_distribution = np.bincount(degrees) / 10\n",
    "draw_ccdf(california_road_graph_random, degree_distribution, True, 'ro', 'random');\n",
    "\n",
    "plt.show()"
   ]
  }
 ],
 "metadata": {
  "kernelspec": {
   "display_name": "Python 3 (ipykernel)",
   "language": "python",
   "name": "python3"
  },
  "language_info": {
   "codemirror_mode": {
    "name": "ipython",
    "version": 3
   },
   "file_extension": ".py",
   "mimetype": "text/x-python",
   "name": "python",
   "nbconvert_exporter": "python",
   "pygments_lexer": "ipython3",
   "version": "3.8.12"
  }
 },
 "nbformat": 4,
 "nbformat_minor": 5
}
