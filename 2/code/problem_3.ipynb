{
 "cells": [
  {
   "cell_type": "markdown",
   "id": "3ad55bd0",
   "metadata": {},
   "source": [
    "# Lecture: Complex Network Analysis\n",
    "\n",
    "Prof. Dr. Michael Gertz\n",
    "\n",
    "Winter Semester 2021/22\n",
    "\n",
    "## Assignment 1 - Graph Properties and Random Graphs\n",
    "\n",
    "Students: Felix Hausberger, Nils Krehl, Patrick Günther"
   ]
  },
  {
   "cell_type": "code",
   "execution_count": 1,
   "id": "d67ac4f6",
   "metadata": {},
   "outputs": [],
   "source": [
    "import pandas as pd\n",
    "import networkx as nx\n",
    "import matplotlib.pyplot as plt"
   ]
  },
  {
   "cell_type": "markdown",
   "id": "9e61aaea",
   "metadata": {},
   "source": [
    "## 1."
   ]
  },
  {
   "cell_type": "code",
   "execution_count": 29,
   "id": "fccb2adb",
   "metadata": {},
   "outputs": [
    {
     "name": "stdout",
     "output_type": "stream",
     "text": [
      "KONECT american football graph:\n",
      "undirected, unweighted, no self-loops or multiple edges\n",
      "Nodes: 115\n",
      "Edges: 613\n"
     ]
    }
   ],
   "source": [
    "american_football_graph = nx.read_edgelist(\"data/american_football/american_football.edgelist\", nodetype=int, create_using=nx.Graph())\n",
    "print(\"KONECT american football graph:\")\n",
    "print(\"undirected, unweighted, no self-loops or multiple edges\")\n",
    "print(f\"Nodes: {nx.number_of_nodes(american_football_graph)}\")\n",
    "print(f\"Edges: {nx.number_of_edges(american_football_graph)}\")"
   ]
  },
  {
   "cell_type": "code",
   "execution_count": 33,
   "id": "aa19e59b",
   "metadata": {},
   "outputs": [
    {
     "name": "stdout",
     "output_type": "stream",
     "text": [
      "SNAP california road graph:\n",
      "undirected, unweighted, no self-loops or multiple edges\n",
      "Nodes: 1965206\n",
      "Edges: 2766607\n"
     ]
    }
   ],
   "source": [
    "california_road_graph = nx.read_edgelist(\"data/california_road/california_road.edgelist\", nodetype=int, create_using=nx.Graph())\n",
    "print(\"SNAP california road graph:\")\n",
    "print(\"undirected, unweighted, no self-loops or multiple edges\")\n",
    "print(f\"Nodes: {nx.number_of_nodes(california_road_graph)}\")\n",
    "print(f\"Edges: {nx.number_of_edges(california_road_graph)}\")"
   ]
  },
  {
   "cell_type": "code",
   "execution_count": null,
   "id": "8adaa24f",
   "metadata": {},
   "outputs": [],
   "source": []
  }
 ],
 "metadata": {
  "kernelspec": {
   "display_name": "Python 3",
   "language": "python",
   "name": "python3"
  },
  "language_info": {
   "codemirror_mode": {
    "name": "ipython",
    "version": 3
   },
   "file_extension": ".py",
   "mimetype": "text/x-python",
   "name": "python",
   "nbconvert_exporter": "python",
   "pygments_lexer": "ipython3",
   "version": "3.8.8"
  }
 },
 "nbformat": 4,
 "nbformat_minor": 5
}
