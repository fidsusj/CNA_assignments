{
 "cells": [
  {
   "cell_type": "markdown",
   "id": "4968ee41",
   "metadata": {},
   "source": [
    "# Lecture: Complex Network Analysis\n",
    "\n",
    "Prof. Dr. Michael Gertz\n",
    "\n",
    "Winter Semester 2021/22\n",
    "\n",
    "## Assignment 7 - Assortativity and Robustness\n",
    "\n",
    "Students: Felix Hausberger, Nils Krehl, Patrick Günther"
   ]
  },
  {
   "cell_type": "markdown",
   "id": "59fb0b9a",
   "metadata": {},
   "source": [
    "# 1. Build graph"
   ]
  },
  {
   "cell_type": "code",
   "execution_count": 71,
   "id": "e4f2ebf3",
   "metadata": {},
   "outputs": [],
   "source": [
    "import pandas as pd\n",
    "import networkx as nx\n",
    "import numpy as np\n",
    "import seaborn as sns\n",
    "import matplotlib.pylab as plt\n",
    "import scipy"
   ]
  },
  {
   "cell_type": "code",
   "execution_count": 2,
   "id": "3c214065",
   "metadata": {},
   "outputs": [],
   "source": [
    "df_blogs = pd.read_csv('assortativity_networks/blogs.txt', sep=\"\\t\", header=None)\n",
    "df_javax = pd.read_csv('assortativity_networks/javax.txt', delim_whitespace=True, header=None)\n",
    "df_network_science = pd.read_csv('assortativity_networks/network-science.txt', sep=\"\\t\", header=None)"
   ]
  },
  {
   "cell_type": "code",
   "execution_count": 3,
   "id": "28c57927",
   "metadata": {},
   "outputs": [
    {
     "data": {
      "text/html": [
       "<div>\n",
       "<style scoped>\n",
       "    .dataframe tbody tr th:only-of-type {\n",
       "        vertical-align: middle;\n",
       "    }\n",
       "\n",
       "    .dataframe tbody tr th {\n",
       "        vertical-align: top;\n",
       "    }\n",
       "\n",
       "    .dataframe thead th {\n",
       "        text-align: right;\n",
       "    }\n",
       "</style>\n",
       "<table border=\"1\" class=\"dataframe\">\n",
       "  <thead>\n",
       "    <tr style=\"text-align: right;\">\n",
       "      <th></th>\n",
       "      <th>0</th>\n",
       "      <th>1</th>\n",
       "    </tr>\n",
       "  </thead>\n",
       "  <tbody>\n",
       "    <tr>\n",
       "      <th>0</th>\n",
       "      <td>1</td>\n",
       "      <td>2</td>\n",
       "    </tr>\n",
       "    <tr>\n",
       "      <th>1</th>\n",
       "      <td>1</td>\n",
       "      <td>3</td>\n",
       "    </tr>\n",
       "    <tr>\n",
       "      <th>2</th>\n",
       "      <td>1</td>\n",
       "      <td>4</td>\n",
       "    </tr>\n",
       "    <tr>\n",
       "      <th>3</th>\n",
       "      <td>1</td>\n",
       "      <td>5</td>\n",
       "    </tr>\n",
       "    <tr>\n",
       "      <th>4</th>\n",
       "      <td>1</td>\n",
       "      <td>6</td>\n",
       "    </tr>\n",
       "    <tr>\n",
       "      <th>...</th>\n",
       "      <td>...</td>\n",
       "      <td>...</td>\n",
       "    </tr>\n",
       "    <tr>\n",
       "      <th>33425</th>\n",
       "      <td>975</td>\n",
       "      <td>664</td>\n",
       "    </tr>\n",
       "    <tr>\n",
       "      <th>33426</th>\n",
       "      <td>975</td>\n",
       "      <td>67</td>\n",
       "    </tr>\n",
       "    <tr>\n",
       "      <th>33427</th>\n",
       "      <td>975</td>\n",
       "      <td>1004</td>\n",
       "    </tr>\n",
       "    <tr>\n",
       "      <th>33428</th>\n",
       "      <td>975</td>\n",
       "      <td>1224</td>\n",
       "    </tr>\n",
       "    <tr>\n",
       "      <th>33429</th>\n",
       "      <td>1028</td>\n",
       "      <td>791</td>\n",
       "    </tr>\n",
       "  </tbody>\n",
       "</table>\n",
       "<p>33430 rows × 2 columns</p>\n",
       "</div>"
      ],
      "text/plain": [
       "          0     1\n",
       "0         1     2\n",
       "1         1     3\n",
       "2         1     4\n",
       "3         1     5\n",
       "4         1     6\n",
       "...     ...   ...\n",
       "33425   975   664\n",
       "33426   975    67\n",
       "33427   975  1004\n",
       "33428   975  1224\n",
       "33429  1028   791\n",
       "\n",
       "[33430 rows x 2 columns]"
      ]
     },
     "execution_count": 3,
     "metadata": {},
     "output_type": "execute_result"
    }
   ],
   "source": [
    "df_blogs"
   ]
  },
  {
   "cell_type": "code",
   "execution_count": 4,
   "id": "ca06b54d",
   "metadata": {},
   "outputs": [],
   "source": [
    "# since it is an undirected graph, no parallel edges are added\n",
    "G_blogs = nx.Graph()\n",
    "G_blogs.add_edges_from(df_blogs.itertuples(index=False))\n",
    "\n",
    "G_javax = nx.Graph()\n",
    "G_javax.add_edges_from(df_javax.itertuples(index=False))\n",
    "\n",
    "G_network_science = nx.Graph()\n",
    "G_network_science.add_edges_from(df_network_science.itertuples(index=False))\n",
    "\n",
    "# remove self-loops\n",
    "G_blogs.remove_edges_from(nx.selfloop_edges(G_blogs))\n",
    "G_javax.remove_edges_from(nx.selfloop_edges(G_javax))\n",
    "G_network_science.remove_edges_from(nx.selfloop_edges(G_network_science))"
   ]
  },
  {
   "cell_type": "code",
   "execution_count": 5,
   "id": "5b9fa86c",
   "metadata": {},
   "outputs": [
    {
     "name": "stdout",
     "output_type": "stream",
     "text": [
      "Number of nodes in blogs is 1224.\n",
      "Number of edges in blogs is 16715.\n",
      "\n",
      "Number of nodes in javax is 6120.\n",
      "Number of edges in javax is 50290.\n",
      "\n",
      "Number of nodes in network-science is 1461.\n",
      "Number of edges in network-science is 2742.\n"
     ]
    }
   ],
   "source": [
    "print(f\"Number of nodes in blogs is {G_blogs.number_of_nodes()}.\")\n",
    "print(f\"Number of edges in blogs is {G_blogs.number_of_edges()}.\")\n",
    "print()\n",
    "print(f\"Number of nodes in javax is {G_javax.number_of_nodes()}.\")\n",
    "print(f\"Number of edges in javax is {G_javax.number_of_edges()}.\")\n",
    "print()\n",
    "print(f\"Number of nodes in network-science is {G_network_science.number_of_nodes()}.\")\n",
    "print(f\"Number of edges in network-science is {G_network_science.number_of_edges()}.\")"
   ]
  },
  {
   "cell_type": "markdown",
   "id": "d23a4e9d",
   "metadata": {},
   "source": [
    "# 2. Degree correlation matrix"
   ]
  },
  {
   "cell_type": "code",
   "execution_count": 44,
   "id": "117b83fe",
   "metadata": {},
   "outputs": [],
   "source": [
    "def calculate_degree_correlation_matrix(G):\n",
    "    max_degree = max(deg for n, deg in G.degree)\n",
    "    # create a dict to save the number of degree combinations\n",
    "    degrees = []\n",
    "    for i in range(max_degree+1):\n",
    "        for j in range(max_degree+1):\n",
    "            degrees.append((i,j))\n",
    "\n",
    "    deg_1 = []\n",
    "    deg_2 = []\n",
    "    for i in degrees:\n",
    "        deg_1.append(i[0])\n",
    "        deg_2.append(i[1])\n",
    "    d = {'deg_1': deg_1, 'deg_2': deg_2, 'count': 0}\n",
    "    degree_correlation_df = pd.DataFrame(data=d)\n",
    "\n",
    "    for u,v,weight in G.edges(data=True):\n",
    "        degree_correlation_df.loc[degree_correlation_df.eval(f'deg_1 == {G.degree(u)} & deg_2 == {G.degree(v)}'), 'count'] += 1\n",
    "    \n",
    "    deg_corr_mat = np.zeros((max_degree+1, max_degree+1))\n",
    "    for index, row in degree_correlation_df.iterrows():\n",
    "        deg_corr_mat[row['deg_1'], row['deg_2']] = row['count']\n",
    "\n",
    "    deg_corr_mat = deg_corr_mat + deg_corr_mat.T\n",
    "    deg_corr_mat_prob = deg_corr_mat / np.sum(deg_corr_mat)\n",
    "    \n",
    "    deg_corr_mat_absolute = deg_corr_mat\n",
    "    \n",
    "    return deg_corr_mat_absolute, deg_corr_mat_prob"
   ]
  },
  {
   "cell_type": "code",
   "execution_count": 7,
   "id": "6c0eec76",
   "metadata": {},
   "outputs": [],
   "source": [
    "deg_corr_mat_blogs_absolute, deg_corr_mat = calculate_degree_correlation_matrix(G_blogs)"
   ]
  },
  {
   "cell_type": "code",
   "execution_count": 45,
   "id": "dcfc944d",
   "metadata": {},
   "outputs": [],
   "source": [
    "deg_corr_mat_network_science_absolute, deg_corr_mat_network_science = calculate_degree_correlation_matrix(G_network_science)"
   ]
  },
  {
   "cell_type": "code",
   "execution_count": 9,
   "id": "41500816",
   "metadata": {},
   "outputs": [],
   "source": [
    "# deg_corr_mat_javax_absolute, deg_corr_mat_javax = calculate_degree_correlation_matrix(G_javax)"
   ]
  },
  {
   "cell_type": "markdown",
   "id": "82b53739",
   "metadata": {},
   "source": [
    "# 3. Heatmap"
   ]
  },
  {
   "cell_type": "code",
   "execution_count": 36,
   "id": "0425772c",
   "metadata": {},
   "outputs": [
    {
     "data": {
      "image/png": "[encoded data removed]",
      "text/plain": [
       "<Figure size 432x288 with 2 Axes>"
      ]
     },
     "metadata": {
      "needs_background": "light"
     },
     "output_type": "display_data"
    }
   ],
   "source": [
    "ax = sns.heatmap(deg_corr_mat_network_science, cmap=\"YlGnBu\", center=0.015)\n",
    "plt.title(\"Degree Correlation Matrix Heatmap of Network Science\")\n",
    "plt.show()"
   ]
  },
  {
   "cell_type": "code",
   "execution_count": 37,
   "id": "e7826009",
   "metadata": {},
   "outputs": [
    {
     "data": {
      "image/png": "[encoded data removed]",
      "text/plain": [
       "<Figure size 432x288 with 2 Axes>"
      ]
     },
     "metadata": {
      "needs_background": "light"
     },
     "output_type": "display_data"
    }
   ],
   "source": [
    "ax = sns.heatmap(deg_corr_mat_blogs, cmap=\"YlGnBu\", center=0.00015)\n",
    "plt.title(\"Degree Correlation Matrix Heatmap of Blogs\")\n",
    "plt.show()"
   ]
  },
  {
   "cell_type": "markdown",
   "id": "0798304b",
   "metadata": {},
   "source": [
    "# 4. Nearest neighbor degree"
   ]
  },
  {
   "cell_type": "code",
   "execution_count": 85,
   "id": "14723792",
   "metadata": {},
   "outputs": [],
   "source": [
    "# calculates nearest neighbor degree for singe nodes\n",
    "def calculate_k_nn_single_node(G, node):\n",
    "    neighbors = list(G.neighbors(node))\n",
    "    return np.sum([G.degree(neighbor) for neighbor in neighbors]) / G.degree(node)"
   ]
  },
  {
   "cell_type": "code",
   "execution_count": 91,
   "id": "2e8b1dc2",
   "metadata": {},
   "outputs": [],
   "source": [
    "# get k_i\n",
    "k_i_network_science = []\n",
    "for node in list(G_network_science.nodes):\n",
    "    k_i_network_science.append(calculate_k_nn_single_node(G_network_science, node))\n",
    "    \n",
    "k_i_blogs = []\n",
    "for node in list(G_blogs.nodes):\n",
    "    k_i_blogs.append(calculate_k_nn_single_node(G_blogs, node))\n",
    "    \n",
    "#k_i_javax = []\n",
    "#for node in list(G_javax.nodes):\n",
    "#    k_i_javax.append(calculate_k_nn_single_node(G_javax, node))\n"
   ]
  },
  {
   "cell_type": "code",
   "execution_count": 46,
   "id": "8f32ae69",
   "metadata": {},
   "outputs": [],
   "source": [
    "# calculates nearest neighbor degree for all nodes of degree k\n",
    "def calculate_k_nn(k, deg_corr_mat_absolute):\n",
    "    neighbors = deg_corr_mat_absolute[k]\n",
    "    num_neighbors = np.sum(neighbors)\n",
    "    \n",
    "    return np.sum([k_prime * neighbors[k_prime] / num_neighbors for k_prime in range(len(neighbors))])"
   ]
  },
  {
   "cell_type": "code",
   "execution_count": 96,
   "id": "a540d8f4",
   "metadata": {},
   "outputs": [
    {
     "name": "stderr",
     "output_type": "stream",
     "text": [
      "/opt/anaconda3/envs/complexnetworkanalysis/lib/python3.7/site-packages/ipykernel_launcher.py:5: RuntimeWarning: invalid value encountered in double_scalars\n",
      "  \"\"\"\n"
     ]
    },
    {
     "ename": "NameError",
     "evalue": "name 'deg_corr_mat_blogs_absolute' is not defined",
     "output_type": "error",
     "traceback": [
      "\u001b[0;31m---------------------------------------------------------------------------\u001b[0m",
      "\u001b[0;31mNameError\u001b[0m                                 Traceback (most recent call last)",
      "\u001b[0;32m/var/folders/qq/9q6wphrj19z8xt4qcffm8df80000gn/T/ipykernel_4963/1567510444.py\u001b[0m in \u001b[0;36m<module>\u001b[0;34m\u001b[0m\n\u001b[1;32m      5\u001b[0m \u001b[0;34m\u001b[0m\u001b[0m\n\u001b[1;32m      6\u001b[0m \u001b[0mk_nn_blogs\u001b[0m \u001b[0;34m=\u001b[0m \u001b[0;34m[\u001b[0m\u001b[0;34m]\u001b[0m\u001b[0;34m\u001b[0m\u001b[0;34m\u001b[0m\u001b[0m\n\u001b[0;32m----> 7\u001b[0;31m \u001b[0;32mfor\u001b[0m \u001b[0mk\u001b[0m \u001b[0;32min\u001b[0m \u001b[0mrange\u001b[0m\u001b[0;34m(\u001b[0m\u001b[0mlen\u001b[0m\u001b[0;34m(\u001b[0m\u001b[0mdeg_corr_mat_blogs_absolute\u001b[0m\u001b[0;34m[\u001b[0m\u001b[0;36m0\u001b[0m\u001b[0;34m]\u001b[0m\u001b[0;34m)\u001b[0m\u001b[0;34m)\u001b[0m\u001b[0;34m:\u001b[0m\u001b[0;34m\u001b[0m\u001b[0;34m\u001b[0m\u001b[0m\n\u001b[0m\u001b[1;32m      8\u001b[0m     \u001b[0mk_nn_blogs\u001b[0m\u001b[0;34m.\u001b[0m\u001b[0mappend\u001b[0m\u001b[0;34m(\u001b[0m\u001b[0mcalculate_k_nn\u001b[0m\u001b[0;34m(\u001b[0m\u001b[0mk\u001b[0m\u001b[0;34m,\u001b[0m \u001b[0mdeg_corr_mat_blogs_absolute\u001b[0m\u001b[0;34m)\u001b[0m\u001b[0;34m)\u001b[0m\u001b[0;34m\u001b[0m\u001b[0;34m\u001b[0m\u001b[0m\n\u001b[1;32m      9\u001b[0m \u001b[0;34m\u001b[0m\u001b[0m\n",
      "\u001b[0;31mNameError\u001b[0m: name 'deg_corr_mat_blogs_absolute' is not defined"
     ]
    }
   ],
   "source": [
    "# get k_nn\n",
    "k_nn_network_science = []\n",
    "for k in range(len(deg_corr_mat_network_science_absolute[0])):\n",
    "    k_nn_network_science.append(calculate_k_nn(k, deg_corr_mat_network_science_absolute))\n",
    "    \n",
    "k_nn_blogs = []\n",
    "for k in range(len(deg_corr_mat_blogs_absolute[0])):\n",
    "    k_nn_blogs.append(calculate_k_nn(k, deg_corr_mat_blogs_absolute))\n",
    "\n",
    "#k_nn_javax = []\n",
    "#for k in range(len(deg_corr_mat_javax_absolute[0])):\n",
    "#    k_nn_javax.append(calculate_k_nn(k, deg_corr_mat_javax_absolute))"
   ]
  },
  {
   "cell_type": "code",
   "execution_count": 47,
   "id": "2a4f455b",
   "metadata": {},
   "outputs": [
    {
     "data": {
      "text/plain": [
       "6.381632653061225"
      ]
     },
     "execution_count": 47,
     "metadata": {},
     "output_type": "execute_result"
    }
   ],
   "source": [
    "calculate_k_nn(5, deg_corr_mat_network_science_absolute)"
   ]
  },
  {
   "cell_type": "code",
   "execution_count": 86,
   "id": "e9db0f98",
   "metadata": {},
   "outputs": [
    {
     "data": {
      "text/plain": [
       "4.0"
      ]
     },
     "execution_count": 86,
     "metadata": {},
     "output_type": "execute_result"
    }
   ],
   "source": [
    "calculate_k_nn_single_node(G_network_science, 7)"
   ]
  },
  {
   "cell_type": "code",
   "execution_count": 93,
   "id": "147a915a",
   "metadata": {},
   "outputs": [
    {
     "data": {
      "text/plain": [
       "array([0., 0., 0., 0., 0., 0., 0., 0., 0., 0., 0., 0., 0., 0., 0., 0., 0.,\n",
       "       0., 0., 0., 0., 0., 0., 0., 0., 0., 0., 0., 0., 0., 0., 0., 0., 0.,\n",
       "       0.])"
      ]
     },
     "execution_count": 93,
     "metadata": {},
     "output_type": "execute_result"
    }
   ],
   "source": [
    "deg_corr_mat_network_science[0]"
   ]
  },
  {
   "cell_type": "code",
   "execution_count": null,
   "id": "1da5423a",
   "metadata": {},
   "outputs": [],
   "source": []
  }
 ],
 "metadata": {
  "kernelspec": {
   "display_name": "Python 3 (ipykernel)",
   "language": "python",
   "name": "python3"
  },
  "language_info": {
   "codemirror_mode": {
    "name": "ipython",
    "version": 3
   },
   "file_extension": ".py",
   "mimetype": "text/x-python",
   "name": "python",
   "nbconvert_exporter": "python",
   "pygments_lexer": "ipython3",
   "version": "3.7.11"
  }
 },
 "nbformat": 4,
 "nbformat_minor": 5
}
