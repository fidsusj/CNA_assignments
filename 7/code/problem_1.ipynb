{
 "cells": [
  {
   "cell_type": "markdown",
   "id": "4968ee41",
   "metadata": {},
   "source": [
    "# Lecture: Complex Network Analysis\n",
    "\n",
    "Prof. Dr. Michael Gertz\n",
    "\n",
    "Winter Semester 2021/22\n",
    "\n",
    "## Assignment 7 - Assortativity and Robustness\n",
    "\n",
    "Students: Felix Hausberger, Nils Krehl, Patrick Günther"
   ]
  },
  {
   "cell_type": "markdown",
   "id": "59fb0b9a",
   "metadata": {},
   "source": [
    "# 1. Build graph"
   ]
  },
  {
   "cell_type": "code",
   "execution_count": 1,
   "id": "e4f2ebf3",
   "metadata": {},
   "outputs": [],
   "source": [
    "import pandas as pd\n",
    "import networkx as nx\n",
    "import numpy as np\n",
    "import seaborn as sns\n",
    "import matplotlib.pylab as plt\n",
    "import scipy"
   ]
  },
  {
   "cell_type": "code",
   "execution_count": 2,
   "id": "3c214065",
   "metadata": {},
   "outputs": [],
   "source": [
    "df_blogs = pd.read_csv('assortativity_networks/blogs.txt', sep=\"\\t\", header=None)\n",
    "df_javax = pd.read_csv('assortativity_networks/javax.txt', delim_whitespace=True, header=None)\n",
    "df_network_science = pd.read_csv('assortativity_networks/network-science.txt', sep=\"\\t\", header=None)"
   ]
  },
  {
   "cell_type": "code",
   "execution_count": 3,
   "id": "28c57927",
   "metadata": {},
   "outputs": [
    {
     "data": {
      "text/html": [
       "<div>\n",
       "<style scoped>\n",
       "    .dataframe tbody tr th:only-of-type {\n",
       "        vertical-align: middle;\n",
       "    }\n",
       "\n",
       "    .dataframe tbody tr th {\n",
       "        vertical-align: top;\n",
       "    }\n",
       "\n",
       "    .dataframe thead th {\n",
       "        text-align: right;\n",
       "    }\n",
       "</style>\n",
       "<table border=\"1\" class=\"dataframe\">\n",
       "  <thead>\n",
       "    <tr style=\"text-align: right;\">\n",
       "      <th></th>\n",
       "      <th>0</th>\n",
       "      <th>1</th>\n",
       "    </tr>\n",
       "  </thead>\n",
       "  <tbody>\n",
       "    <tr>\n",
       "      <th>0</th>\n",
       "      <td>1</td>\n",
       "      <td>2</td>\n",
       "    </tr>\n",
       "    <tr>\n",
       "      <th>1</th>\n",
       "      <td>1</td>\n",
       "      <td>3</td>\n",
       "    </tr>\n",
       "    <tr>\n",
       "      <th>2</th>\n",
       "      <td>1</td>\n",
       "      <td>4</td>\n",
       "    </tr>\n",
       "    <tr>\n",
       "      <th>3</th>\n",
       "      <td>1</td>\n",
       "      <td>5</td>\n",
       "    </tr>\n",
       "    <tr>\n",
       "      <th>4</th>\n",
       "      <td>1</td>\n",
       "      <td>6</td>\n",
       "    </tr>\n",
       "    <tr>\n",
       "      <th>...</th>\n",
       "      <td>...</td>\n",
       "      <td>...</td>\n",
       "    </tr>\n",
       "    <tr>\n",
       "      <th>33425</th>\n",
       "      <td>975</td>\n",
       "      <td>664</td>\n",
       "    </tr>\n",
       "    <tr>\n",
       "      <th>33426</th>\n",
       "      <td>975</td>\n",
       "      <td>67</td>\n",
       "    </tr>\n",
       "    <tr>\n",
       "      <th>33427</th>\n",
       "      <td>975</td>\n",
       "      <td>1004</td>\n",
       "    </tr>\n",
       "    <tr>\n",
       "      <th>33428</th>\n",
       "      <td>975</td>\n",
       "      <td>1224</td>\n",
       "    </tr>\n",
       "    <tr>\n",
       "      <th>33429</th>\n",
       "      <td>1028</td>\n",
       "      <td>791</td>\n",
       "    </tr>\n",
       "  </tbody>\n",
       "</table>\n",
       "<p>33430 rows × 2 columns</p>\n",
       "</div>"
      ],
      "text/plain": [
       "          0     1\n",
       "0         1     2\n",
       "1         1     3\n",
       "2         1     4\n",
       "3         1     5\n",
       "4         1     6\n",
       "...     ...   ...\n",
       "33425   975   664\n",
       "33426   975    67\n",
       "33427   975  1004\n",
       "33428   975  1224\n",
       "33429  1028   791\n",
       "\n",
       "[33430 rows x 2 columns]"
      ]
     },
     "execution_count": 3,
     "metadata": {},
     "output_type": "execute_result"
    }
   ],
   "source": [
    "df_blogs"
   ]
  },
  {
   "cell_type": "code",
   "execution_count": 4,
   "id": "ca06b54d",
   "metadata": {},
   "outputs": [],
   "source": [
    "# since it is an undirected graph, no parallel edges are added\n",
    "G_blogs = nx.Graph()\n",
    "G_blogs.add_edges_from(df_blogs.itertuples(index=False))\n",
    "\n",
    "G_javax = nx.Graph()\n",
    "G_javax.add_edges_from(df_javax.itertuples(index=False))\n",
    "\n",
    "G_network_science = nx.Graph()\n",
    "G_network_science.add_edges_from(df_network_science.itertuples(index=False))\n",
    "\n",
    "# remove self-loops\n",
    "G_blogs.remove_edges_from(nx.selfloop_edges(G_blogs))\n",
    "G_javax.remove_edges_from(nx.selfloop_edges(G_javax))\n",
    "G_network_science.remove_edges_from(nx.selfloop_edges(G_network_science))"
   ]
  },
  {
   "cell_type": "code",
   "execution_count": 5,
   "id": "5b9fa86c",
   "metadata": {},
   "outputs": [
    {
     "name": "stdout",
     "output_type": "stream",
     "text": [
      "Number of nodes in blogs is 1224.\n",
      "Number of edges in blogs is 16715.\n",
      "\n",
      "Number of nodes in javax is 6120.\n",
      "Number of edges in javax is 50290.\n",
      "\n",
      "Number of nodes in network-science is 1461.\n",
      "Number of edges in network-science is 2742.\n"
     ]
    }
   ],
   "source": [
    "print(f\"Number of nodes in blogs is {G_blogs.number_of_nodes()}.\")\n",
    "print(f\"Number of edges in blogs is {G_blogs.number_of_edges()}.\")\n",
    "print()\n",
    "print(f\"Number of nodes in javax is {G_javax.number_of_nodes()}.\")\n",
    "print(f\"Number of edges in javax is {G_javax.number_of_edges()}.\")\n",
    "print()\n",
    "print(f\"Number of nodes in network-science is {G_network_science.number_of_nodes()}.\")\n",
    "print(f\"Number of edges in network-science is {G_network_science.number_of_edges()}.\")"
   ]
  },
  {
   "cell_type": "markdown",
   "id": "d23a4e9d",
   "metadata": {},
   "source": [
    "# 2. Degree correlation matrix"
   ]
  },
  {
   "cell_type": "code",
   "execution_count": 6,
   "id": "117b83fe",
   "metadata": {},
   "outputs": [],
   "source": [
    "def calculate_degree_correlation_matrix(G):\n",
    "    max_degree = max(deg for n, deg in G.degree)\n",
    "    # create a dict to save the number of degree combinations\n",
    "    degrees = []\n",
    "    for i in range(max_degree+1):\n",
    "        for j in range(max_degree+1):\n",
    "            degrees.append((i,j))\n",
    "\n",
    "    deg_1 = []\n",
    "    deg_2 = []\n",
    "    for i in degrees:\n",
    "        deg_1.append(i[0])\n",
    "        deg_2.append(i[1])\n",
    "    d = {'deg_1': deg_1, 'deg_2': deg_2, 'count': 0}\n",
    "    degree_correlation_df = pd.DataFrame(data=d)\n",
    "\n",
    "    for u,v,weight in G.edges(data=True):\n",
    "        degree_correlation_df.loc[degree_correlation_df.eval(f'deg_1 == {G.degree(u)} & deg_2 == {G.degree(v)}'), 'count'] += 1\n",
    "    \n",
    "    deg_corr_mat = np.zeros((max_degree+1, max_degree+1))\n",
    "    for index, row in degree_correlation_df.iterrows():\n",
    "        deg_corr_mat[row['deg_1'], row['deg_2']] = row['count']\n",
    "\n",
    "    deg_corr_mat = deg_corr_mat + deg_corr_mat.T\n",
    "    deg_corr_mat_prob = deg_corr_mat / np.sum(deg_corr_mat)\n",
    "    \n",
    "    deg_corr_mat_absolute = deg_corr_mat\n",
    "    \n",
    "    return deg_corr_mat_absolute, deg_corr_mat_prob"
   ]
  },
  {
   "cell_type": "code",
   "execution_count": null,
   "id": "6c0eec76",
   "metadata": {},
   "outputs": [],
   "source": [
    "deg_corr_mat_blogs_absolute, deg_corr_mat_blogs = calculate_degree_correlation_matrix(G_blogs)"
   ]
  },
  {
   "cell_type": "code",
   "execution_count": null,
   "id": "dcfc944d",
   "metadata": {},
   "outputs": [],
   "source": [
    "deg_corr_mat_network_science_absolute, deg_corr_mat_network_science = calculate_degree_correlation_matrix(G_network_science)"
   ]
  },
  {
   "cell_type": "code",
   "execution_count": null,
   "id": "41500816",
   "metadata": {},
   "outputs": [],
   "source": [
    "deg_corr_mat_javax_absolute, deg_corr_mat_javax = calculate_degree_correlation_matrix(G_javax)"
   ]
  },
  {
   "cell_type": "markdown",
   "id": "82b53739",
   "metadata": {},
   "source": [
    "# 3. Heatmap"
   ]
  },
  {
   "cell_type": "code",
   "execution_count": null,
   "id": "0425772c",
   "metadata": {},
   "outputs": [],
   "source": [
    "ax = sns.heatmap(deg_corr_mat_network_science, cmap=\"YlGnBu\", center=0.015)\n",
    "plt.title(\"Degree Correlation Matrix Heatmap of Network Science\")\n",
    "plt.show()"
   ]
  },
  {
   "cell_type": "code",
   "execution_count": null,
   "id": "e7826009",
   "metadata": {},
   "outputs": [],
   "source": [
    "ax = sns.heatmap(deg_corr_mat_blogs, cmap=\"YlGnBu\", center=0.00015)\n",
    "plt.title(\"Degree Correlation Matrix Heatmap of Blogs\")\n",
    "plt.show()"
   ]
  },
  {
   "cell_type": "markdown",
   "id": "0798304b",
   "metadata": {},
   "source": [
    "# 4. Nearest neighbor degree"
   ]
  },
  {
   "cell_type": "code",
   "execution_count": null,
   "id": "14723792",
   "metadata": {},
   "outputs": [],
   "source": [
    "# calculates nearest neighbor degree for singe nodes\n",
    "def calculate_k_nn_single_node(G, node):\n",
    "    neighbors = list(G.neighbors(node))\n",
    "    return np.sum([G.degree(neighbor) for neighbor in neighbors]) / G.degree(node)"
   ]
  },
  {
   "cell_type": "code",
   "execution_count": null,
   "id": "2e8b1dc2",
   "metadata": {},
   "outputs": [],
   "source": [
    "# get k_i\n",
    "degrees_network_science = [G_network_science.degree(node) for node in G_network_science.nodes]\n",
    "k_i_network_science = []\n",
    "for node in list(G_network_science.nodes):\n",
    "    k_i_network_science.append(calculate_k_nn_single_node(G_network_science, node))\n",
    "\n",
    "degrees_blogs = [G_blogs.degree(node) for node in G_blogs.nodes]\n",
    "k_i_blogs = []\n",
    "for node in list(G_blogs.nodes):\n",
    "    k_i_blogs.append(calculate_k_nn_single_node(G_blogs, node))\n",
    "    \n",
    "k_i_javax = []\n",
    "degrees_javax = [G_javax.degree(node) for node in G_javax.nodes]\n",
    "for node in list(G_javax.nodes):\n",
    "    k_i_javax.append(calculate_k_nn_single_node(G_javax, node))\n"
   ]
  },
  {
   "cell_type": "code",
   "execution_count": null,
   "id": "8f32ae69",
   "metadata": {},
   "outputs": [],
   "source": [
    "# calculates nearest neighbor degree for all nodes of degree k\n",
    "def calculate_k_nn(k, deg_corr_mat_absolute):\n",
    "    neighbors = deg_corr_mat_absolute[k]\n",
    "    num_neighbors = np.sum(neighbors)\n",
    "    \n",
    "    return np.sum([k_prime * neighbors[k_prime] / num_neighbors for k_prime in range(len(neighbors))])"
   ]
  },
  {
   "cell_type": "code",
   "execution_count": null,
   "id": "a540d8f4",
   "metadata": {},
   "outputs": [],
   "source": [
    "# get k_nn\n",
    "k_nn_network_science = []\n",
    "for k in range(len(deg_corr_mat_network_science_absolute[0])):\n",
    "    k_nn_network_science.append(calculate_k_nn(k, deg_corr_mat_network_science_absolute))\n",
    "    \n",
    "k_nn_blogs = []\n",
    "for k in range(len(deg_corr_mat_blogs_absolute[0])):\n",
    "    k_nn_blogs.append(calculate_k_nn(k, deg_corr_mat_blogs_absolute))\n",
    "\n",
    "k_nn_javax = []\n",
    "for k in range(len(deg_corr_mat_javax_absolute[0])):\n",
    "    k_nn_javax.append(calculate_k_nn(k, deg_corr_mat_javax_absolute))"
   ]
  },
  {
   "cell_type": "code",
   "execution_count": null,
   "id": "667dcbb1",
   "metadata": {},
   "outputs": [],
   "source": []
  },
  {
   "cell_type": "markdown",
   "id": "8cad5107",
   "metadata": {},
   "source": [
    "# Scatter plot"
   ]
  },
  {
   "cell_type": "code",
   "execution_count": null,
   "id": "be4bb2a0",
   "metadata": {},
   "outputs": [],
   "source": [
    "plt.scatter(degrees_network_science, k_i_network_science, c='red', label='$k_{nn}(k_i)$')\n",
    "plt.scatter(range(len(deg_corr_mat_network_science_absolute[0])), k_nn_network_science, c='blue', label='$k_{nn}(k)$')\n",
    "plt.title(\"Network Science\")\n",
    "plt.xlabel('$k$ / $k_i$')\n",
    "plt.ylabel('$k_{nn}$')\n",
    "plt.legend()\n",
    "plt.show()"
   ]
  },
  {
   "cell_type": "code",
   "execution_count": null,
   "id": "9756305a",
   "metadata": {},
   "outputs": [],
   "source": [
    "plt.scatter(degrees_blogs, k_i_blogs, c='red', label='$k_{nn}(k_i)$')\n",
    "plt.scatter(range(len(deg_corr_mat_blogs_absolute[0])), k_nn_blogs, c='blue', label='$k_{nn}(k)$')\n",
    "plt.title(\"Blogs\")\n",
    "plt.xlabel('$k$ / $k_i$')\n",
    "plt.ylabel('$k_{nn}$')\n",
    "plt.legend()\n",
    "plt.show()"
   ]
  },
  {
   "cell_type": "code",
   "execution_count": null,
   "id": "fc673965",
   "metadata": {},
   "outputs": [],
   "source": [
    "plt.scatter(degrees_javax, k_i_javax, c='red', label='$k_{nn}(k_i)$')\n",
    "plt.scatter(range(len(deg_corr_mat_javax_absolute[0])), k_nn_javax, c='blue', label='$k_{nn}(k)$')\n",
    "plt.title(\"Javax\")\n",
    "plt.xlabel('$k$ / $k_i$')\n",
    "plt.ylabel('$k_{nn}$')\n",
    "plt.legend()\n",
    "plt.show()"
   ]
  },
  {
   "cell_type": "markdown",
   "id": "ea28c844",
   "metadata": {},
   "source": [
    "# Degree correlation coefficient"
   ]
  },
  {
   "cell_type": "code",
   "execution_count": null,
   "id": "cb430648",
   "metadata": {},
   "outputs": [],
   "source": [
    "def compute_degree_correlation_coefficient(G, deg_corr_mat):\n",
    "    max_degree = max(deg for n, deg in G.degree)\n",
    "    \n",
    "    avg_degree = sum(deg for n, deg in G.degree)/len(G.degree)\n",
    "\n",
    "    q_k = {}\n",
    "    for deg in range(max_degree + 1):\n",
    "        p_k = [deg for n, deg in G.degree].count(deg)/len(G.degree)\n",
    "        q_k[deg] = (deg * p_k)/avg_degree\n",
    "        \n",
    "    sigma_squared = sum([(k**2) * q_k[k] for k in q_k]) - sum([k * q_k[k] for k in q_k])**2\n",
    "\n",
    "    r = []\n",
    "\n",
    "    for j, row in enumerate(deg_corr_mat):\n",
    "        for k, e_jk in enumerate(row):\n",
    "            qk = q_k[k]\n",
    "            qj = q_k[j]\n",
    "            r.append((j*k*(e_jk-qj*qk))/sigma_squared)\n",
    "\n",
    "    r = sum(r)\n",
    "    \n",
    "    return r"
   ]
  },
  {
   "cell_type": "code",
   "execution_count": null,
   "id": "2a69c022",
   "metadata": {},
   "outputs": [],
   "source": [
    "print(f\"The degree correlation coefficient with our computation for Network Science is r={compute_degree_correlation_coefficient(G_network_science, deg_corr_mat_network_science)}\")\n",
    "# to check our computation, we also use the inbuild function of networkx\n",
    "print(f\"The degree correlation coefficient with the inbuild networkx function for Network Science is r={nx.algorithms.assortativity.degree_assortativity_coefficient(G_network_science)}\")"
   ]
  },
  {
   "cell_type": "code",
   "execution_count": null,
   "id": "61dbce27",
   "metadata": {},
   "outputs": [],
   "source": [
    "print(f\"The degree correlation coefficient with our computation for Blogs is r={compute_degree_correlation_coefficient(G_blogs, deg_corr_mat_blogs)}\")\n",
    "# to check our computation, we also use the inbuild function of networkx\n",
    "print(f\"The degree correlation coefficient with the inbuild networkx function for Blogs is r={nx.algorithms.assortativity.degree_assortativity_coefficient(G_blogs)}\")"
   ]
  },
  {
   "cell_type": "code",
   "execution_count": null,
   "id": "bc3b9c14",
   "metadata": {},
   "outputs": [],
   "source": [
    "print(f\"The degree correlation coefficient with our computation for Javax is r={compute_degree_correlation_coefficient(G_javaxJavax, deg_corr_mat_javaxJavax)}\")\n",
    "# to check our computation, we also use the inbuild function of networkx\n",
    "print(f\"The degree correlation coefficient with the inbuild networkx function for Javax is r={nx.algorithms.assortativity.degree_assortativity_coefficient(G_javaxJavax)}\")"
   ]
  }
 ],
 "metadata": {
  "kernelspec": {
   "display_name": "Python 3 (ipykernel)",
   "language": "python",
   "name": "python3"
  },
  "language_info": {
   "codemirror_mode": {
    "name": "ipython",
    "version": 3
   },
   "file_extension": ".py",
   "mimetype": "text/x-python",
   "name": "python",
   "nbconvert_exporter": "python",
   "pygments_lexer": "ipython3",
   "version": "3.7.11"
  }
 },
 "nbformat": 4,
 "nbformat_minor": 5
}
