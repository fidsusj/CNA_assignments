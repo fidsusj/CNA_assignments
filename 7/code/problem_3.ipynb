{
 "cells": [
  {
   "cell_type": "markdown",
   "id": "4968ee41",
   "metadata": {},
   "source": [
    "# Lecture: Complex Network Analysis\n",
    "\n",
    "Prof. Dr. Michael Gertz\n",
    "\n",
    "Winter Semester 2021/22\n",
    "\n",
    "## Assignment 7 - Assortativity and Robustness\n",
    "\n",
    "### Problem 7-3: Xalvi-Brunet and Sokolov Algorithm\n",
    "\n",
    "Students: Felix Hausberger, Nils Krehl, Patrick Günther"
   ]
  },
  {
   "cell_type": "code",
   "execution_count": null,
   "id": "e4f2ebf3",
   "metadata": {},
   "outputs": [],
   "source": [
    "import pandas as pd\n",
    "import networkx as nx\n",
    "import numpy as np\n",
    "import seaborn as sns\n",
    "import matplotlib.pylab as plt\n",
    "import scipy"
   ]
  },
  {
   "cell_type": "markdown",
   "id": "59fb0b9a",
   "metadata": {},
   "source": [
    "# 1. Xalvi-Brunet and Sokolov algorithm"
   ]
  },
  {
   "cell_type": "code",
   "execution_count": 71,
   "id": "3c214065",
   "metadata": {},
   "outputs": [],
   "source": [
    "def xalvi_brunet_sokolov_algorithm(graph, num_iterations, assortative):\n",
    "    network = graph.copy()\n",
    "    for i in range(num_iterations):\n",
    "        links = np.array(list(network.edges))\n",
    "        degrees = network.degree()\n",
    "        # choose two random links\n",
    "        choosen_indices = np.random.choice(range(len(links)), 2, replace=False)\n",
    "        choosen_links = links[choosen_indices]\n",
    "        \n",
    "        # get corresponding nodes and their node degrees\n",
    "        corresponding_nodes = choosen_links.flatten()\n",
    "        corresponding_node_degrees = np.array([degrees[x] for x in corresponding_nodes])\n",
    "        \n",
    "        # sort the nodes by their degrees in descending order\n",
    "        index_array = np.argsort(corresponding_node_degrees)[::-1]\n",
    "        ordered_nodes = corresponding_nodes[index_array]\n",
    "        ordered_nodes_degrees = corresponding_node_degrees[index_array]\n",
    "        \n",
    "        # remove the selected links\n",
    "        network.remove_edge(choosen_links[0][0], choosen_links[0][1])\n",
    "        network.remove_edge(choosen_links[1][0], choosen_links[1][1])\n",
    "        \n",
    "        # rewiring\n",
    "        if assortative == True:\n",
    "            network.add_edge(ordered_nodes[0], ordered_nodes[1])\n",
    "            network.add_edge(ordered_nodes[2], ordered_nodes[3])\n",
    "        else:\n",
    "            network.add_edge(ordered_nodes[0], ordered_nodes[3])\n",
    "            network.add_edge(ordered_nodes[1], ordered_nodes[2])\n",
    "    \n",
    "    return network"
   ]
  },
  {
   "cell_type": "markdown",
   "id": "31110bd5-f2d4-4d1d-8541-56d09113ebf2",
   "metadata": {},
   "source": [
    "# 2. Create networks with Xalvi-Brunet and Sokolov algorithm"
   ]
  },
  {
   "cell_type": "code",
   "execution_count": 72,
   "id": "f039a711-febc-4fcb-a595-7bd25c59e232",
   "metadata": {},
   "outputs": [],
   "source": [
    "df_neutral_network = pd.read_csv('neutral_network.txt', delim_whitespace=True, header=None)"
   ]
  },
  {
   "cell_type": "code",
   "execution_count": 73,
   "id": "b6055b53-ece5-4a0b-ba4c-d6b50639f5bf",
   "metadata": {},
   "outputs": [],
   "source": [
    "G_neutral_network = nx.Graph()\n",
    "G_neutral_network.add_edges_from(df_neutral_network.itertuples(index=False))"
   ]
  },
  {
   "cell_type": "code",
   "execution_count": 74,
   "id": "796a8cf2-3e80-4e56-a809-39019e380b55",
   "metadata": {},
   "outputs": [],
   "source": [
    "G_assortative = xalvi_brunet_sokolov_algorithm(G_neutral_network, 5000, True)\n",
    "G_disassortative = xalvi_brunet_sokolov_algorithm(G_neutral_network, 5000, False)"
   ]
  },
  {
   "cell_type": "code",
   "execution_count": 79,
   "id": "2eecca17-6d79-473f-8d7c-c7056e1c88a5",
   "metadata": {},
   "outputs": [
    {
     "name": "stdout",
     "output_type": "stream",
     "text": [
      "Degree Correlation Coefficient\n",
      "r = 0: neutral network; r < 0: disassortative network; r > 0: assortative network \n",
      "\n",
      "Neutral network Degree Correlation Coefficient: -0.009246262701730106\n",
      "Assortative network Degree Correlation Coefficient: 0.8059171023423379\n",
      "Disassortative network Degree Correlation Coefficient: -0.6342320039448923\n"
     ]
    }
   ],
   "source": [
    "print(\"Degree Correlation Coefficient\")\n",
    "print(\"r = 0: neutral network; r < 0: disassortative network; r > 0: assortative network \\n\")\n",
    "print(\"Neutral network Degree Correlation Coefficient: {}\".format(nx.degree_pearson_correlation_coefficient(G_neutral_network)))\n",
    "print(\"Assortative network Degree Correlation Coefficient: {}\".format(nx.degree_pearson_correlation_coefficient(G_assortative)))\n",
    "print(\"Disassortative network Degree Correlation Coefficient: {}\".format(nx.degree_pearson_correlation_coefficient(G_disassortative)))"
   ]
  },
  {
   "cell_type": "markdown",
   "id": "8755c446-035d-42d6-954b-05e952427722",
   "metadata": {},
   "source": [
    "# 3. Plot giant component size"
   ]
  },
  {
   "cell_type": "markdown",
   "id": "eb91be2f-8f57-4b7e-9b0d-ca2367201fe2",
   "metadata": {},
   "source": [
    "# 4. Disucssion\n",
    "\n",
    "Discuss the results from the previous task: Which network is the most robust against random failures? Explain why this is the case."
   ]
  },
  {
   "cell_type": "code",
   "execution_count": 85,
   "id": "14723792",
   "metadata": {},
   "outputs": [],
   "source": [
    "# calculates nearest neighbor degree for singe nodes\n",
    "def calculate_k_nn_single_node(G, node):\n",
    "    neighbors = list(G.neighbors(node))\n",
    "    return np.sum([G.degree(neighbor) for neighbor in neighbors]) / G.degree(node)"
   ]
  },
  {
   "cell_type": "code",
   "execution_count": 91,
   "id": "2e8b1dc2",
   "metadata": {},
   "outputs": [],
   "source": [
    "# get k_i\n",
    "k_i_network_science = []\n",
    "for node in list(G_network_science.nodes):\n",
    "    k_i_network_science.append(calculate_k_nn_single_node(G_network_science, node))\n",
    "    \n",
    "k_i_blogs = []\n",
    "for node in list(G_blogs.nodes):\n",
    "    k_i_blogs.append(calculate_k_nn_single_node(G_blogs, node))\n",
    "    \n",
    "#k_i_javax = []\n",
    "#for node in list(G_javax.nodes):\n",
    "#    k_i_javax.append(calculate_k_nn_single_node(G_javax, node))\n"
   ]
  },
  {
   "cell_type": "code",
   "execution_count": 46,
   "id": "8f32ae69",
   "metadata": {},
   "outputs": [],
   "source": [
    "# calculates nearest neighbor degree for all nodes of degree k\n",
    "def calculate_k_nn(k, deg_corr_mat_absolute):\n",
    "    neighbors = deg_corr_mat_absolute[k]\n",
    "    num_neighbors = np.sum(neighbors)\n",
    "    \n",
    "    return np.sum([k_prime * neighbors[k_prime] / num_neighbors for k_prime in range(len(neighbors))])"
   ]
  },
  {
   "cell_type": "code",
   "execution_count": 96,
   "id": "a540d8f4",
   "metadata": {},
   "outputs": [
    {
     "name": "stderr",
     "output_type": "stream",
     "text": [
      "/opt/anaconda3/envs/complexnetworkanalysis/lib/python3.7/site-packages/ipykernel_launcher.py:5: RuntimeWarning: invalid value encountered in double_scalars\n",
      "  \"\"\"\n"
     ]
    },
    {
     "ename": "NameError",
     "evalue": "name 'deg_corr_mat_blogs_absolute' is not defined",
     "output_type": "error",
     "traceback": [
      "\u001b[0;31m---------------------------------------------------------------------------\u001b[0m",
      "\u001b[0;31mNameError\u001b[0m                                 Traceback (most recent call last)",
      "\u001b[0;32m/var/folders/qq/9q6wphrj19z8xt4qcffm8df80000gn/T/ipykernel_4963/1567510444.py\u001b[0m in \u001b[0;36m<module>\u001b[0;34m\u001b[0m\n\u001b[1;32m      5\u001b[0m \u001b[0;34m\u001b[0m\u001b[0m\n\u001b[1;32m      6\u001b[0m \u001b[0mk_nn_blogs\u001b[0m \u001b[0;34m=\u001b[0m \u001b[0;34m[\u001b[0m\u001b[0;34m]\u001b[0m\u001b[0;34m\u001b[0m\u001b[0;34m\u001b[0m\u001b[0m\n\u001b[0;32m----> 7\u001b[0;31m \u001b[0;32mfor\u001b[0m \u001b[0mk\u001b[0m \u001b[0;32min\u001b[0m \u001b[0mrange\u001b[0m\u001b[0;34m(\u001b[0m\u001b[0mlen\u001b[0m\u001b[0;34m(\u001b[0m\u001b[0mdeg_corr_mat_blogs_absolute\u001b[0m\u001b[0;34m[\u001b[0m\u001b[0;36m0\u001b[0m\u001b[0;34m]\u001b[0m\u001b[0;34m)\u001b[0m\u001b[0;34m)\u001b[0m\u001b[0;34m:\u001b[0m\u001b[0;34m\u001b[0m\u001b[0;34m\u001b[0m\u001b[0m\n\u001b[0m\u001b[1;32m      8\u001b[0m     \u001b[0mk_nn_blogs\u001b[0m\u001b[0;34m.\u001b[0m\u001b[0mappend\u001b[0m\u001b[0;34m(\u001b[0m\u001b[0mcalculate_k_nn\u001b[0m\u001b[0;34m(\u001b[0m\u001b[0mk\u001b[0m\u001b[0;34m,\u001b[0m \u001b[0mdeg_corr_mat_blogs_absolute\u001b[0m\u001b[0;34m)\u001b[0m\u001b[0;34m)\u001b[0m\u001b[0;34m\u001b[0m\u001b[0;34m\u001b[0m\u001b[0m\n\u001b[1;32m      9\u001b[0m \u001b[0;34m\u001b[0m\u001b[0m\n",
      "\u001b[0;31mNameError\u001b[0m: name 'deg_corr_mat_blogs_absolute' is not defined"
     ]
    }
   ],
   "source": [
    "# get k_nn\n",
    "k_nn_network_science = []\n",
    "for k in range(len(deg_corr_mat_network_science_absolute[0])):\n",
    "    k_nn_network_science.append(calculate_k_nn(k, deg_corr_mat_network_science_absolute))\n",
    "    \n",
    "k_nn_blogs = []\n",
    "for k in range(len(deg_corr_mat_blogs_absolute[0])):\n",
    "    k_nn_blogs.append(calculate_k_nn(k, deg_corr_mat_blogs_absolute))\n",
    "\n",
    "#k_nn_javax = []\n",
    "#for k in range(len(deg_corr_mat_javax_absolute[0])):\n",
    "#    k_nn_javax.append(calculate_k_nn(k, deg_corr_mat_javax_absolute))"
   ]
  },
  {
   "cell_type": "code",
   "execution_count": 47,
   "id": "2a4f455b",
   "metadata": {},
   "outputs": [
    {
     "data": {
      "text/plain": [
       "6.381632653061225"
      ]
     },
     "execution_count": 47,
     "metadata": {},
     "output_type": "execute_result"
    }
   ],
   "source": [
    "calculate_k_nn(5, deg_corr_mat_network_science_absolute)"
   ]
  },
  {
   "cell_type": "code",
   "execution_count": 86,
   "id": "e9db0f98",
   "metadata": {},
   "outputs": [
    {
     "data": {
      "text/plain": [
       "4.0"
      ]
     },
     "execution_count": 86,
     "metadata": {},
     "output_type": "execute_result"
    }
   ],
   "source": [
    "calculate_k_nn_single_node(G_network_science, 7)"
   ]
  },
  {
   "cell_type": "code",
   "execution_count": 93,
   "id": "147a915a",
   "metadata": {},
   "outputs": [
    {
     "data": {
      "text/plain": [
       "array([0., 0., 0., 0., 0., 0., 0., 0., 0., 0., 0., 0., 0., 0., 0., 0., 0.,\n",
       "       0., 0., 0., 0., 0., 0., 0., 0., 0., 0., 0., 0., 0., 0., 0., 0., 0.,\n",
       "       0.])"
      ]
     },
     "execution_count": 93,
     "metadata": {},
     "output_type": "execute_result"
    }
   ],
   "source": [
    "deg_corr_mat_network_science[0]"
   ]
  },
  {
   "cell_type": "code",
   "execution_count": null,
   "id": "1da5423a",
   "metadata": {},
   "outputs": [],
   "source": []
  }
 ],
 "metadata": {
  "kernelspec": {
   "display_name": "Python 3 (ipykernel)",
   "language": "python",
   "name": "python3"
  },
  "language_info": {
   "codemirror_mode": {
    "name": "ipython",
    "version": 3
   },
   "file_extension": ".py",
   "mimetype": "text/x-python",
   "name": "python",
   "nbconvert_exporter": "python",
   "pygments_lexer": "ipython3",
   "version": "3.7.12"
  }
 },
 "nbformat": 4,
 "nbformat_minor": 5
}
